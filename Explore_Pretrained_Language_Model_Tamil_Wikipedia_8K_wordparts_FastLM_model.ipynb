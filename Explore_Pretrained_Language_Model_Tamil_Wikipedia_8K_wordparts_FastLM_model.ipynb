{
  "nbformat": 4,
  "nbformat_minor": 0,
  "metadata": {
    "colab": {
      "name": "Explore Pretrained Language Model Tamil Wikipedia 8K wordparts FastLM model.ipynb",
      "version": "0.3.2",
      "provenance": [],
      "collapsed_sections": [
        "TUZXdpwk5eHN",
        "3nJTHzIm5eHX",
        "ng4e1qFA5eHn",
        "Yixm1Tsy5eHy",
        "C9Mg-dhE5eII"
      ],
      "include_colab_link": true
    },
    "kernelspec": {
      "name": "python3",
      "display_name": "Python 3"
    },
    "accelerator": "GPU"
  },
  "cells": [
    {
      "cell_type": "markdown",
      "metadata": {
        "id": "view-in-github",
        "colab_type": "text"
      },
      "source": [
        "<a href=\"https://colab.research.google.com/github/ravi-annaswamy/AdversarialAudioSeparation/blob/master/Explore_Pretrained_Language_Model_Tamil_Wikipedia_8K_wordparts_FastLM_model.ipynb\" target=\"_parent\"><img src=\"https://colab.research.google.com/assets/colab-badge.svg\" alt=\"Open In Colab\"/></a>"
      ]
    },
    {
      "metadata": {
        "id": "ySePc7f_5eGM",
        "colab_type": "text"
      },
      "cell_type": "markdown",
      "source": [
        "## Step 1. Imports"
      ]
    },
    {
      "metadata": {
        "id": "zneKyLCg5sYd",
        "colab_type": "code",
        "colab": {
          "base_uri": "https://localhost:8080/",
          "height": 815
        },
        "outputId": "cace39fe-1063-482f-fbc5-226cacc8fe44"
      },
      "cell_type": "code",
      "source": [
        "!pip install fastai --upgrade"
      ],
      "execution_count": 1,
      "outputs": [
        {
          "output_type": "stream",
          "text": [
            "Requirement already up-to-date: fastai in /usr/local/lib/python3.6/dist-packages (1.0.51)\n",
            "Requirement already satisfied, skipping upgrade: matplotlib in /usr/local/lib/python3.6/dist-packages (from fastai) (3.0.3)\n",
            "Requirement already satisfied, skipping upgrade: numexpr in /usr/local/lib/python3.6/dist-packages (from fastai) (2.6.9)\n",
            "Requirement already satisfied, skipping upgrade: scipy in /usr/local/lib/python3.6/dist-packages (from fastai) (1.1.0)\n",
            "Requirement already satisfied, skipping upgrade: Pillow in /usr/local/lib/python3.6/dist-packages (from fastai) (4.1.1)\n",
            "Requirement already satisfied, skipping upgrade: dataclasses; python_version < \"3.7\" in /usr/local/lib/python3.6/dist-packages (from fastai) (0.6)\n",
            "Requirement already satisfied, skipping upgrade: nvidia-ml-py3 in /usr/local/lib/python3.6/dist-packages (from fastai) (7.352.0)\n",
            "Requirement already satisfied, skipping upgrade: packaging in /usr/local/lib/python3.6/dist-packages (from fastai) (19.0)\n",
            "Requirement already satisfied, skipping upgrade: numpy>=1.15 in /usr/local/lib/python3.6/dist-packages (from fastai) (1.16.2)\n",
            "Requirement already satisfied, skipping upgrade: torch>=1.0.0 in /usr/local/lib/python3.6/dist-packages (from fastai) (1.0.1.post2)\n",
            "Requirement already satisfied, skipping upgrade: pandas in /usr/local/lib/python3.6/dist-packages (from fastai) (0.22.0)\n",
            "Requirement already satisfied, skipping upgrade: torchvision in /usr/local/lib/python3.6/dist-packages (from fastai) (0.2.2.post3)\n",
            "Requirement already satisfied, skipping upgrade: requests in /usr/local/lib/python3.6/dist-packages (from fastai) (2.18.4)\n",
            "Requirement already satisfied, skipping upgrade: beautifulsoup4 in /usr/local/lib/python3.6/dist-packages (from fastai) (4.6.3)\n",
            "Requirement already satisfied, skipping upgrade: spacy>=2.0.18 in /usr/local/lib/python3.6/dist-packages (from fastai) (2.0.18)\n",
            "Requirement already satisfied, skipping upgrade: pyyaml in /usr/local/lib/python3.6/dist-packages (from fastai) (3.13)\n",
            "Requirement already satisfied, skipping upgrade: fastprogress>=0.1.19 in /usr/local/lib/python3.6/dist-packages (from fastai) (0.1.20)\n",
            "Requirement already satisfied, skipping upgrade: typing in /usr/local/lib/python3.6/dist-packages (from fastai) (3.6.6)\n",
            "Requirement already satisfied, skipping upgrade: bottleneck in /usr/local/lib/python3.6/dist-packages (from fastai) (1.2.1)\n",
            "Requirement already satisfied, skipping upgrade: kiwisolver>=1.0.1 in /usr/local/lib/python3.6/dist-packages (from matplotlib->fastai) (1.0.1)\n",
            "Requirement already satisfied, skipping upgrade: python-dateutil>=2.1 in /usr/local/lib/python3.6/dist-packages (from matplotlib->fastai) (2.5.3)\n",
            "Requirement already satisfied, skipping upgrade: cycler>=0.10 in /usr/local/lib/python3.6/dist-packages (from matplotlib->fastai) (0.10.0)\n",
            "Requirement already satisfied, skipping upgrade: pyparsing!=2.0.4,!=2.1.2,!=2.1.6,>=2.0.1 in /usr/local/lib/python3.6/dist-packages (from matplotlib->fastai) (2.3.1)\n",
            "Requirement already satisfied, skipping upgrade: olefile in /usr/local/lib/python3.6/dist-packages (from Pillow->fastai) (0.46)\n",
            "Requirement already satisfied, skipping upgrade: six in /usr/local/lib/python3.6/dist-packages (from packaging->fastai) (1.11.0)\n",
            "Requirement already satisfied, skipping upgrade: pytz>=2011k in /usr/local/lib/python3.6/dist-packages (from pandas->fastai) (2018.9)\n",
            "Requirement already satisfied, skipping upgrade: chardet<3.1.0,>=3.0.2 in /usr/local/lib/python3.6/dist-packages (from requests->fastai) (3.0.4)\n",
            "Requirement already satisfied, skipping upgrade: urllib3<1.23,>=1.21.1 in /usr/local/lib/python3.6/dist-packages (from requests->fastai) (1.22)\n",
            "Requirement already satisfied, skipping upgrade: idna<2.7,>=2.5 in /usr/local/lib/python3.6/dist-packages (from requests->fastai) (2.6)\n",
            "Requirement already satisfied, skipping upgrade: certifi>=2017.4.17 in /usr/local/lib/python3.6/dist-packages (from requests->fastai) (2019.3.9)\n",
            "Requirement already satisfied, skipping upgrade: ujson>=1.35 in /usr/local/lib/python3.6/dist-packages (from spacy>=2.0.18->fastai) (1.35)\n",
            "Requirement already satisfied, skipping upgrade: thinc<6.13.0,>=6.12.1 in /usr/local/lib/python3.6/dist-packages (from spacy>=2.0.18->fastai) (6.12.1)\n",
            "Requirement already satisfied, skipping upgrade: preshed<2.1.0,>=2.0.1 in /usr/local/lib/python3.6/dist-packages (from spacy>=2.0.18->fastai) (2.0.1)\n",
            "Requirement already satisfied, skipping upgrade: murmurhash<1.1.0,>=0.28.0 in /usr/local/lib/python3.6/dist-packages (from spacy>=2.0.18->fastai) (1.0.2)\n",
            "Requirement already satisfied, skipping upgrade: dill<0.3,>=0.2 in /usr/local/lib/python3.6/dist-packages (from spacy>=2.0.18->fastai) (0.2.9)\n",
            "Requirement already satisfied, skipping upgrade: plac<1.0.0,>=0.9.6 in /usr/local/lib/python3.6/dist-packages (from spacy>=2.0.18->fastai) (0.9.6)\n",
            "Requirement already satisfied, skipping upgrade: cymem<2.1.0,>=2.0.2 in /usr/local/lib/python3.6/dist-packages (from spacy>=2.0.18->fastai) (2.0.2)\n",
            "Requirement already satisfied, skipping upgrade: regex==2018.01.10 in /usr/local/lib/python3.6/dist-packages (from spacy>=2.0.18->fastai) (2018.1.10)\n",
            "Requirement already satisfied, skipping upgrade: setuptools in /usr/local/lib/python3.6/dist-packages (from kiwisolver>=1.0.1->matplotlib->fastai) (40.9.0)\n",
            "Requirement already satisfied, skipping upgrade: wrapt<1.11.0,>=1.10.0 in /usr/local/lib/python3.6/dist-packages (from thinc<6.13.0,>=6.12.1->spacy>=2.0.18->fastai) (1.10.11)\n",
            "Requirement already satisfied, skipping upgrade: msgpack<0.6.0,>=0.5.6 in /usr/local/lib/python3.6/dist-packages (from thinc<6.13.0,>=6.12.1->spacy>=2.0.18->fastai) (0.5.6)\n",
            "Requirement already satisfied, skipping upgrade: cytoolz<0.10,>=0.9.0 in /usr/local/lib/python3.6/dist-packages (from thinc<6.13.0,>=6.12.1->spacy>=2.0.18->fastai) (0.9.0.1)\n",
            "Requirement already satisfied, skipping upgrade: tqdm<5.0.0,>=4.10.0 in /usr/local/lib/python3.6/dist-packages (from thinc<6.13.0,>=6.12.1->spacy>=2.0.18->fastai) (4.28.1)\n",
            "Requirement already satisfied, skipping upgrade: msgpack-numpy<0.4.4 in /usr/local/lib/python3.6/dist-packages (from thinc<6.13.0,>=6.12.1->spacy>=2.0.18->fastai) (0.4.3.2)\n",
            "Requirement already satisfied, skipping upgrade: toolz>=0.8.0 in /usr/local/lib/python3.6/dist-packages (from cytoolz<0.10,>=0.9.0->thinc<6.13.0,>=6.12.1->spacy>=2.0.18->fastai) (0.9.0)\n"
          ],
          "name": "stdout"
        }
      ]
    },
    {
      "metadata": {
        "id": "eQzYOizY5yzD",
        "colab_type": "code",
        "colab": {
          "base_uri": "https://localhost:8080/",
          "height": 35
        },
        "outputId": "5fed6a3d-ba02-446c-e783-5357cd4435ab"
      },
      "cell_type": "code",
      "source": [
        "!pip install sentencepiece"
      ],
      "execution_count": 2,
      "outputs": [
        {
          "output_type": "stream",
          "text": [
            "Requirement already satisfied: sentencepiece in /usr/local/lib/python3.6/dist-packages (0.1.81)\n"
          ],
          "name": "stdout"
        }
      ]
    },
    {
      "metadata": {
        "id": "AdCE06NK5eGP",
        "colab_type": "code",
        "colab": {}
      },
      "cell_type": "code",
      "source": [
        "from fastai.text import *\n",
        "import numpy as np\n",
        "from sklearn.model_selection import train_test_split\n",
        "import pickle\n",
        "import sentencepiece as spm"
      ],
      "execution_count": 0,
      "outputs": []
    },
    {
      "metadata": {
        "id": "oDByOCy65eGU",
        "colab_type": "code",
        "colab": {}
      },
      "cell_type": "code",
      "source": [
        "%reload_ext autoreload\n",
        "%autoreload 2\n",
        "%matplotlib inline"
      ],
      "execution_count": 0,
      "outputs": []
    },
    {
      "metadata": {
        "id": "4LlY_Z7o5eGY",
        "colab_type": "code",
        "outputId": "00e3c06c-d6ba-4718-ea27-d77959074424",
        "colab": {
          "base_uri": "https://localhost:8080/",
          "height": 35
        }
      },
      "cell_type": "code",
      "source": [
        "import fastai, torch\n",
        "fastai.__version__ , torch.__version__"
      ],
      "execution_count": 5,
      "outputs": [
        {
          "output_type": "execute_result",
          "data": {
            "text/plain": [
              "('1.0.51', '1.0.1.post2')"
            ]
          },
          "metadata": {
            "tags": []
          },
          "execution_count": 5
        }
      ]
    },
    {
      "metadata": {
        "id": "lPDO9n595eGg",
        "colab_type": "text"
      },
      "cell_type": "markdown",
      "source": [
        "## Step 2. Download Tamil LM models from Dropbox"
      ]
    },
    {
      "metadata": {
        "id": "6NtRcerz6Ngd",
        "colab_type": "code",
        "colab": {
          "base_uri": "https://localhost:8080/",
          "height": 452
        },
        "outputId": "7ef247c1-f0ff-4667-91fb-611d4ed9f579"
      },
      "cell_type": "code",
      "source": [
        "!wget https://www.dropbox.com/s/zozzrgawulkwtxa/wikitalm_8k_447_third.pth"
      ],
      "execution_count": 18,
      "outputs": [
        {
          "output_type": "stream",
          "text": [
            "--2019-04-06 13:53:02--  https://www.dropbox.com/s/zozzrgawulkwtxa/wikitalm_8k_447_third.pth\n",
            "Resolving www.dropbox.com (www.dropbox.com)... 162.125.8.1, 2620:100:6018:1::a27d:301\n",
            "Connecting to www.dropbox.com (www.dropbox.com)|162.125.8.1|:443... connected.\n",
            "HTTP request sent, awaiting response... 301 Moved Permanently\n",
            "Location: /s/raw/zozzrgawulkwtxa/wikitalm_8k_447_third.pth [following]\n",
            "--2019-04-06 13:53:02--  https://www.dropbox.com/s/raw/zozzrgawulkwtxa/wikitalm_8k_447_third.pth\n",
            "Reusing existing connection to www.dropbox.com:443.\n",
            "HTTP request sent, awaiting response... 302 Found\n",
            "Location: https://uc02c52ea5453d59ae7b84032a4b.dl.dropboxusercontent.com/cd/0/inline/Aegt5FQ5FbvOYOUbIr8chSyC4L5dN4DqE3kIKB601ohRyjmlZBIbVlSjcMe-wbDZWrlqDDgBdoadbXQ4qR3zoSPq7zu8jAvtnbs9UVeaE12ywQ/file# [following]\n",
            "--2019-04-06 13:53:02--  https://uc02c52ea5453d59ae7b84032a4b.dl.dropboxusercontent.com/cd/0/inline/Aegt5FQ5FbvOYOUbIr8chSyC4L5dN4DqE3kIKB601ohRyjmlZBIbVlSjcMe-wbDZWrlqDDgBdoadbXQ4qR3zoSPq7zu8jAvtnbs9UVeaE12ywQ/file\n",
            "Resolving uc02c52ea5453d59ae7b84032a4b.dl.dropboxusercontent.com (uc02c52ea5453d59ae7b84032a4b.dl.dropboxusercontent.com)... 162.125.8.6, 2620:100:601b:6::a27d:806\n",
            "Connecting to uc02c52ea5453d59ae7b84032a4b.dl.dropboxusercontent.com (uc02c52ea5453d59ae7b84032a4b.dl.dropboxusercontent.com)|162.125.8.6|:443... connected.\n",
            "HTTP request sent, awaiting response... 302 FOUND\n",
            "Location: /cd/0/inline2/Aegp6a1u_385sjSfrvATzZx3CSZ0AriVhROa1-p6Bwc3P-LB_S5m6DVzOncErsaiavzA6GYFtze-DwgHMI-MMwKRXrNKLLj2NYFzC9zjW9tO5Gosrk5r10we2jFtCeUhubT6IeLad_W4iETNW92N527TmY109-8rUtfWiN_0T3nY-KL2VbQPiKtXSQUeT330MtWbBXj3_LvYHgSrZ8lCZKaXMa4sq32kpd7Bj7OPTGyOPUQkj6g6pHKiImyj4JC8f8dynee-uZpKAdYzzg6zq9ldMi_PQGXQMMX17gMFD5eKnoVAdLSVs_0qMEdMJ2DZmdL0S24N5geLDA_qzsRtF-_x/file [following]\n",
            "--2019-04-06 13:53:03--  https://uc02c52ea5453d59ae7b84032a4b.dl.dropboxusercontent.com/cd/0/inline2/Aegp6a1u_385sjSfrvATzZx3CSZ0AriVhROa1-p6Bwc3P-LB_S5m6DVzOncErsaiavzA6GYFtze-DwgHMI-MMwKRXrNKLLj2NYFzC9zjW9tO5Gosrk5r10we2jFtCeUhubT6IeLad_W4iETNW92N527TmY109-8rUtfWiN_0T3nY-KL2VbQPiKtXSQUeT330MtWbBXj3_LvYHgSrZ8lCZKaXMa4sq32kpd7Bj7OPTGyOPUQkj6g6pHKiImyj4JC8f8dynee-uZpKAdYzzg6zq9ldMi_PQGXQMMX17gMFD5eKnoVAdLSVs_0qMEdMJ2DZmdL0S24N5geLDA_qzsRtF-_x/file\n",
            "Reusing existing connection to uc02c52ea5453d59ae7b84032a4b.dl.dropboxusercontent.com:443.\n",
            "HTTP request sent, awaiting response... 200 OK\n",
            "Length: 370803664 (354M) [application/octet-stream]\n",
            "Saving to: ‘wikitalm_8k_447_third.pth’\n",
            "\n",
            "wikitalm_8k_447_thi 100%[===================>] 353.62M  39.9MB/s    in 9.2s    \n",
            "\n",
            "2019-04-06 13:53:13 (38.5 MB/s) - ‘wikitalm_8k_447_third.pth’ saved [370803664/370803664]\n",
            "\n"
          ],
          "name": "stdout"
        }
      ]
    },
    {
      "metadata": {
        "id": "FUF32spF623w",
        "colab_type": "code",
        "colab": {
          "base_uri": "https://localhost:8080/",
          "height": 452
        },
        "outputId": "bc1b2d05-8717-4a62-8bcf-8b5fa0b2159a"
      },
      "cell_type": "code",
      "source": [
        "!wget https://www.dropbox.com/s/hl7cowdki4ngf65/data_lm_tawiki_8k.pkl"
      ],
      "execution_count": 17,
      "outputs": [
        {
          "output_type": "stream",
          "text": [
            "--2019-04-06 13:52:53--  https://www.dropbox.com/s/hl7cowdki4ngf65/data_lm_tawiki_8k.pkl\n",
            "Resolving www.dropbox.com (www.dropbox.com)... 162.125.8.1, 2620:100:6018:1::a27d:301\n",
            "Connecting to www.dropbox.com (www.dropbox.com)|162.125.8.1|:443... connected.\n",
            "HTTP request sent, awaiting response... 301 Moved Permanently\n",
            "Location: /s/raw/hl7cowdki4ngf65/data_lm_tawiki_8k.pkl [following]\n",
            "--2019-04-06 13:52:54--  https://www.dropbox.com/s/raw/hl7cowdki4ngf65/data_lm_tawiki_8k.pkl\n",
            "Reusing existing connection to www.dropbox.com:443.\n",
            "HTTP request sent, awaiting response... 302 Found\n",
            "Location: https://ucd74ce3d5e1d7c5d44e6f515a59.dl.dropboxusercontent.com/cd/0/inline/AegEQ0aAEXfBYukJgEAPcX0EoTzq0-78KRwXSUn3GVQt_5UN6zXb98maTCjhXVqfB6jhzWb5S3lROy4_-yXnpzzAz-PTc-ZsigXjV9oVBZ1J8w/file# [following]\n",
            "--2019-04-06 13:52:54--  https://ucd74ce3d5e1d7c5d44e6f515a59.dl.dropboxusercontent.com/cd/0/inline/AegEQ0aAEXfBYukJgEAPcX0EoTzq0-78KRwXSUn3GVQt_5UN6zXb98maTCjhXVqfB6jhzWb5S3lROy4_-yXnpzzAz-PTc-ZsigXjV9oVBZ1J8w/file\n",
            "Resolving ucd74ce3d5e1d7c5d44e6f515a59.dl.dropboxusercontent.com (ucd74ce3d5e1d7c5d44e6f515a59.dl.dropboxusercontent.com)... 162.125.8.6, 2620:100:601b:6::a27d:806\n",
            "Connecting to ucd74ce3d5e1d7c5d44e6f515a59.dl.dropboxusercontent.com (ucd74ce3d5e1d7c5d44e6f515a59.dl.dropboxusercontent.com)|162.125.8.6|:443... connected.\n",
            "HTTP request sent, awaiting response... 302 FOUND\n",
            "Location: /cd/0/inline2/Aehvxz80RHfPCy2g_Py_3FQHjg4j6QqOxZRJE3j4mO9K7YDMMtKDHmqt9bVFcVGH2cmr-6Sv-82evDZU881v00LugkO04TQUuAtUbHtOrpRozkb-cCXB0PDugasE88fB8YVxBjBJ5DymtdlMiFxuAakUJWlxhVfSN5zUPlD4T848V__F6_32hba_Q_dyzrIs-HHENERZWmxzllauV18WS92XSPq3n-3o6tInxI6Ced4NQGsnLj8X42Q2ASs9y_qhtJLxZ5Tx-ZmJTc65OILuYZqEfYrlzevx1a85xnFZo3k74WeXivzfBU79bu9x-9T6p3zxWaC6-M9LgoH5651Uz58m/file [following]\n",
            "--2019-04-06 13:52:55--  https://ucd74ce3d5e1d7c5d44e6f515a59.dl.dropboxusercontent.com/cd/0/inline2/Aehvxz80RHfPCy2g_Py_3FQHjg4j6QqOxZRJE3j4mO9K7YDMMtKDHmqt9bVFcVGH2cmr-6Sv-82evDZU881v00LugkO04TQUuAtUbHtOrpRozkb-cCXB0PDugasE88fB8YVxBjBJ5DymtdlMiFxuAakUJWlxhVfSN5zUPlD4T848V__F6_32hba_Q_dyzrIs-HHENERZWmxzllauV18WS92XSPq3n-3o6tInxI6Ced4NQGsnLj8X42Q2ASs9y_qhtJLxZ5Tx-ZmJTc65OILuYZqEfYrlzevx1a85xnFZo3k74WeXivzfBU79bu9x-9T6p3zxWaC6-M9LgoH5651Uz58m/file\n",
            "Reusing existing connection to ucd74ce3d5e1d7c5d44e6f515a59.dl.dropboxusercontent.com:443.\n",
            "HTTP request sent, awaiting response... 200 OK\n",
            "Length: 359812126 (343M) [application/octet-stream]\n",
            "Saving to: ‘data_lm_tawiki_8k.pkl’\n",
            "\n",
            "data_lm_tawiki_8k.p 100%[===================>] 343.14M  62.8MB/s    in 5.4s    \n",
            "\n",
            "2019-04-06 13:53:00 (63.1 MB/s) - ‘data_lm_tawiki_8k.pkl’ saved [359812126/359812126]\n",
            "\n"
          ],
          "name": "stdout"
        }
      ]
    },
    {
      "metadata": {
        "id": "NxbIn_ME6kHV",
        "colab_type": "code",
        "colab": {
          "base_uri": "https://localhost:8080/",
          "height": 452
        },
        "outputId": "d90e6ddf-fe8f-400a-f522-e951245d9079"
      },
      "cell_type": "code",
      "source": [
        "!wget https://www.dropbox.com/s/9q1pkf6c7ahs9qm/tamil_spm_8k.model"
      ],
      "execution_count": 16,
      "outputs": [
        {
          "output_type": "stream",
          "text": [
            "--2019-04-06 13:52:48--  https://www.dropbox.com/s/9q1pkf6c7ahs9qm/tamil_spm_8k.model\n",
            "Resolving www.dropbox.com (www.dropbox.com)... 162.125.8.1, 2620:100:6018:1::a27d:301\n",
            "Connecting to www.dropbox.com (www.dropbox.com)|162.125.8.1|:443... connected.\n",
            "HTTP request sent, awaiting response... 301 Moved Permanently\n",
            "Location: /s/raw/9q1pkf6c7ahs9qm/tamil_spm_8k.model [following]\n",
            "--2019-04-06 13:52:48--  https://www.dropbox.com/s/raw/9q1pkf6c7ahs9qm/tamil_spm_8k.model\n",
            "Reusing existing connection to www.dropbox.com:443.\n",
            "HTTP request sent, awaiting response... 302 Found\n",
            "Location: https://uc2989d86e3def2443cd4233272c.dl.dropboxusercontent.com/cd/0/inline/AehG8uENNhmbPoXUSXwSZX-MZD44svacyvfKo6vfUJVvh2tu_raui5wRmDj1dGyCfJSM7vnXtQNstCqlfsGQqdpXAjxlKS0yC7IC3IUO3-SCWQ/file# [following]\n",
            "--2019-04-06 13:52:48--  https://uc2989d86e3def2443cd4233272c.dl.dropboxusercontent.com/cd/0/inline/AehG8uENNhmbPoXUSXwSZX-MZD44svacyvfKo6vfUJVvh2tu_raui5wRmDj1dGyCfJSM7vnXtQNstCqlfsGQqdpXAjxlKS0yC7IC3IUO3-SCWQ/file\n",
            "Resolving uc2989d86e3def2443cd4233272c.dl.dropboxusercontent.com (uc2989d86e3def2443cd4233272c.dl.dropboxusercontent.com)... 162.125.8.6, 2620:100:601b:6::a27d:806\n",
            "Connecting to uc2989d86e3def2443cd4233272c.dl.dropboxusercontent.com (uc2989d86e3def2443cd4233272c.dl.dropboxusercontent.com)|162.125.8.6|:443... connected.\n",
            "HTTP request sent, awaiting response... 302 FOUND\n",
            "Location: /cd/0/inline2/AejHgTx2oDHuidkpbJ5cFeHCQyGlxizsXazQxQfpVSO_dLrI5mJn-zN82xpKAKibPSFl_gZ7uovxPf3MPyDzyu8DfRntMb2ChITxiXr9zlDiGMJ--P3pisdmu-PKyTtbMUELCuVnvfmswnY0eFiZrBwA5I83eCD3_ceteslmInyzmRmXd554p8P3vUJR7kuHukP_Yo33mG94P8nNYXC2UyqkI8Ip9wATSf8eKktXiILgg96YzbfjI4sLkZbfT3nFXWhZ4CVnDqh1Y16ABjK-qmVVVUA-6BbkbbuJlIeUHJAz03tMQelqiMn3ZJSC0MnPismBsOJxUWBMqw64YIyX9J7X/file [following]\n",
            "--2019-04-06 13:52:48--  https://uc2989d86e3def2443cd4233272c.dl.dropboxusercontent.com/cd/0/inline2/AejHgTx2oDHuidkpbJ5cFeHCQyGlxizsXazQxQfpVSO_dLrI5mJn-zN82xpKAKibPSFl_gZ7uovxPf3MPyDzyu8DfRntMb2ChITxiXr9zlDiGMJ--P3pisdmu-PKyTtbMUELCuVnvfmswnY0eFiZrBwA5I83eCD3_ceteslmInyzmRmXd554p8P3vUJR7kuHukP_Yo33mG94P8nNYXC2UyqkI8Ip9wATSf8eKktXiILgg96YzbfjI4sLkZbfT3nFXWhZ4CVnDqh1Y16ABjK-qmVVVUA-6BbkbbuJlIeUHJAz03tMQelqiMn3ZJSC0MnPismBsOJxUWBMqw64YIyX9J7X/file\n",
            "Reusing existing connection to uc2989d86e3def2443cd4233272c.dl.dropboxusercontent.com:443.\n",
            "HTTP request sent, awaiting response... 200 OK\n",
            "Length: 484704 (473K) [application/octet-stream]\n",
            "Saving to: ‘tamil_spm_8k.model’\n",
            "\n",
            "tamil_spm_8k.model  100%[===================>] 473.34K  --.-KB/s    in 0.1s    \n",
            "\n",
            "2019-04-06 13:52:49 (4.12 MB/s) - ‘tamil_spm_8k.model’ saved [484704/484704]\n",
            "\n"
          ],
          "name": "stdout"
        }
      ]
    },
    {
      "metadata": {
        "id": "yHOC5luv6rD6",
        "colab_type": "code",
        "colab": {
          "base_uri": "https://localhost:8080/",
          "height": 383
        },
        "outputId": "5bd18e54-8f08-463f-86e3-d5abfe18c8b1"
      },
      "cell_type": "code",
      "source": [
        "!wget https://www.dropbox.com/s/5u4l67faq46jbvw/tamil_spm_8k.vocab"
      ],
      "execution_count": 14,
      "outputs": [
        {
          "output_type": "stream",
          "text": [
            "--2019-04-06 13:52:31--  https://www.dropbox.com/s/5u4l67faq46jbvw/tamil_spm_8k.vocab\n",
            "Resolving www.dropbox.com (www.dropbox.com)... 162.125.8.1, 2620:100:6018:1::a27d:301\n",
            "Connecting to www.dropbox.com (www.dropbox.com)|162.125.8.1|:443... connected.\n",
            "HTTP request sent, awaiting response... 301 Moved Permanently\n",
            "Location: /s/raw/5u4l67faq46jbvw/tamil_spm_8k.vocab [following]\n",
            "--2019-04-06 13:52:31--  https://www.dropbox.com/s/raw/5u4l67faq46jbvw/tamil_spm_8k.vocab\n",
            "Reusing existing connection to www.dropbox.com:443.\n",
            "HTTP request sent, awaiting response... 302 Found\n",
            "Location: https://uc4aea5a4e4b7104931435c22897.dl.dropboxusercontent.com/cd/0/inline/AeiMh4RkoKW_Gdlc2aytqpYmS0-c8Njg4lU1SscAj11jl6t3cbxS-JAsAMNwTZWmiqrk0nsTaA9FEKeauoF8STXiiKbq7eoAcPyBfhKKpoB4HA/file# [following]\n",
            "--2019-04-06 13:52:32--  https://uc4aea5a4e4b7104931435c22897.dl.dropboxusercontent.com/cd/0/inline/AeiMh4RkoKW_Gdlc2aytqpYmS0-c8Njg4lU1SscAj11jl6t3cbxS-JAsAMNwTZWmiqrk0nsTaA9FEKeauoF8STXiiKbq7eoAcPyBfhKKpoB4HA/file\n",
            "Resolving uc4aea5a4e4b7104931435c22897.dl.dropboxusercontent.com (uc4aea5a4e4b7104931435c22897.dl.dropboxusercontent.com)... 162.125.8.6, 2620:100:601b:6::a27d:806\n",
            "Connecting to uc4aea5a4e4b7104931435c22897.dl.dropboxusercontent.com (uc4aea5a4e4b7104931435c22897.dl.dropboxusercontent.com)|162.125.8.6|:443... connected.\n",
            "HTTP request sent, awaiting response... 200 OK\n",
            "Length: 230939 (226K) [text/plain]\n",
            "Saving to: ‘tamil_spm_8k.vocab’\n",
            "\n",
            "tamil_spm_8k.vocab  100%[===================>] 225.53K  --.-KB/s    in 0.09s   \n",
            "\n",
            "2019-04-06 13:52:32 (2.44 MB/s) - ‘tamil_spm_8k.vocab’ saved [230939/230939]\n",
            "\n"
          ],
          "name": "stdout"
        }
      ]
    },
    {
      "metadata": {
        "id": "6PIf4Yng751H",
        "colab_type": "code",
        "colab": {
          "base_uri": "https://localhost:8080/",
          "height": 452
        },
        "outputId": "77b28a1f-d0d9-4660-fe96-ab9752f06074"
      },
      "cell_type": "code",
      "source": [
        "!wget https://www.dropbox.com/s/24nq1vefalhkjjv/inltk.zip"
      ],
      "execution_count": 34,
      "outputs": [
        {
          "output_type": "stream",
          "text": [
            "--2019-04-06 13:56:42--  https://www.dropbox.com/s/24nq1vefalhkjjv/inltk.zip\n",
            "Resolving www.dropbox.com (www.dropbox.com)... 162.125.8.1, 2620:100:601b:1::a27d:801\n",
            "Connecting to www.dropbox.com (www.dropbox.com)|162.125.8.1|:443... connected.\n",
            "HTTP request sent, awaiting response... 301 Moved Permanently\n",
            "Location: /s/raw/24nq1vefalhkjjv/inltk.zip [following]\n",
            "--2019-04-06 13:56:42--  https://www.dropbox.com/s/raw/24nq1vefalhkjjv/inltk.zip\n",
            "Reusing existing connection to www.dropbox.com:443.\n",
            "HTTP request sent, awaiting response... 302 Found\n",
            "Location: https://uc210b434dd1e502ae61e3e1c9cc.dl.dropboxusercontent.com/cd/0/inline/AehPNdVh3kKxu6unMBTJv63rDOytbKy7Rj9MbfLj3o144t4smujl13cLNfstlg9Qg4SDkexz9J88q7F1K-6h_uAtekrmFQZVZx7EhPvatN48Yw/file# [following]\n",
            "--2019-04-06 13:56:42--  https://uc210b434dd1e502ae61e3e1c9cc.dl.dropboxusercontent.com/cd/0/inline/AehPNdVh3kKxu6unMBTJv63rDOytbKy7Rj9MbfLj3o144t4smujl13cLNfstlg9Qg4SDkexz9J88q7F1K-6h_uAtekrmFQZVZx7EhPvatN48Yw/file\n",
            "Resolving uc210b434dd1e502ae61e3e1c9cc.dl.dropboxusercontent.com (uc210b434dd1e502ae61e3e1c9cc.dl.dropboxusercontent.com)... 162.125.8.6, 2620:100:601b:6::a27d:806\n",
            "Connecting to uc210b434dd1e502ae61e3e1c9cc.dl.dropboxusercontent.com (uc210b434dd1e502ae61e3e1c9cc.dl.dropboxusercontent.com)|162.125.8.6|:443... connected.\n",
            "HTTP request sent, awaiting response... 302 FOUND\n",
            "Location: /cd/0/inline2/AeiiuO3QdOooXmDjgI8e6baVYze5T0XSmeyx8uYb3stb1DVkyjyytA19SQHAVEeZ3bFoomizmPcyypufBHp-rMKqQjAJnpEgr1NasVvJdiwP3orTC2p6FLtEoPKM7jJhEkkLCl9ucPYrbnXh9brf8qXylu3jF7DKB_97T50nbMKmYNa9jAcqRD8ZdujFIu7--FeAgnUifNXNI2sRTjk88Xaxuquz5sey1EnuINw-R5xNHxBNsNlNJZZMdt5_Kcy7TBoviLi5ykKdLqHisYIXKuER1VOfNo4y8PnXA3P7ci0iWkEhiW3BnqZioskZBltEnOm-_4ZdmNufaANahebMLLpV/file [following]\n",
            "--2019-04-06 13:56:43--  https://uc210b434dd1e502ae61e3e1c9cc.dl.dropboxusercontent.com/cd/0/inline2/AeiiuO3QdOooXmDjgI8e6baVYze5T0XSmeyx8uYb3stb1DVkyjyytA19SQHAVEeZ3bFoomizmPcyypufBHp-rMKqQjAJnpEgr1NasVvJdiwP3orTC2p6FLtEoPKM7jJhEkkLCl9ucPYrbnXh9brf8qXylu3jF7DKB_97T50nbMKmYNa9jAcqRD8ZdujFIu7--FeAgnUifNXNI2sRTjk88Xaxuquz5sey1EnuINw-R5xNHxBNsNlNJZZMdt5_Kcy7TBoviLi5ykKdLqHisYIXKuER1VOfNo4y8PnXA3P7ci0iWkEhiW3BnqZioskZBltEnOm-_4ZdmNufaANahebMLLpV/file\n",
            "Reusing existing connection to uc210b434dd1e502ae61e3e1c9cc.dl.dropboxusercontent.com:443.\n",
            "HTTP request sent, awaiting response... 200 OK\n",
            "Length: 4664 (4.6K) [application/zip]\n",
            "Saving to: ‘inltk.zip’\n",
            "\n",
            "inltk.zip           100%[===================>]   4.55K  --.-KB/s    in 0s      \n",
            "\n",
            "2019-04-06 13:56:43 (513 MB/s) - ‘inltk.zip’ saved [4664/4664]\n",
            "\n"
          ],
          "name": "stdout"
        }
      ]
    },
    {
      "metadata": {
        "id": "DHgjISZN7_y_",
        "colab_type": "code",
        "colab": {
          "base_uri": "https://localhost:8080/",
          "height": 276
        },
        "outputId": "7e2b6eb8-e594-450d-d511-f52c3b0daaaa"
      },
      "cell_type": "code",
      "source": [
        "!unzip inltk.zip"
      ],
      "execution_count": 35,
      "outputs": [
        {
          "output_type": "stream",
          "text": [
            "Archive:  inltk.zip\n",
            "   creating: inltk/\n",
            "  inflating: inltk/.DS_Store         \n",
            "   creating: __MACOSX/\n",
            "   creating: __MACOSX/inltk/\n",
            "  inflating: __MACOSX/inltk/._.DS_Store  \n",
            "   creating: inltk/__pycache__/\n",
            "  inflating: inltk/__pycache__/.DS_Store  \n",
            "   creating: __MACOSX/inltk/__pycache__/\n",
            "  inflating: __MACOSX/inltk/__pycache__/._.DS_Store  \n",
            "  inflating: inltk/__pycache__/tokenizer.cpython-36.pyc  \n",
            " extracting: inltk/init.py           \n",
            "  inflating: __MACOSX/inltk/._init.py  \n",
            "  inflating: inltk/tokenizer.py      \n",
            "  inflating: __MACOSX/inltk/._tokenizer.py  \n"
          ],
          "name": "stdout"
        }
      ]
    },
    {
      "metadata": {
        "id": "xmSNU2Cq67Ra",
        "colab_type": "code",
        "colab": {
          "base_uri": "https://localhost:8080/",
          "height": 52
        },
        "outputId": "3a412645-f693-40a5-cdc0-a68f9a3cfbd9"
      },
      "cell_type": "code",
      "source": [
        "!ls"
      ],
      "execution_count": 36,
      "outputs": [
        {
          "output_type": "stream",
          "text": [
            "data_lm_tawiki_8k.pkl  inltk.zip  sample_data\t      tamil_spm_8k.vocab\n",
            "inltk\t\t       __MACOSX   tamil_spm_8k.model  wikitalm_8k_447_third.pth\n"
          ],
          "name": "stdout"
        }
      ]
    },
    {
      "metadata": {
        "id": "SOsmv0wy8Ul4",
        "colab_type": "code",
        "colab": {
          "base_uri": "https://localhost:8080/",
          "height": 52
        },
        "outputId": "74261b47-6e41-4b39-c461-707f33277e19"
      },
      "cell_type": "code",
      "source": [
        "!mkdir models\n",
        "!mv wikitalm_8k_447_third.pth models/"
      ],
      "execution_count": 43,
      "outputs": [
        {
          "output_type": "stream",
          "text": [
            "mkdir: cannot create directory ‘models’: File exists\n",
            "mv: cannot stat 'wikitalm_8k_447_third.pth': No such file or directory\n"
          ],
          "name": "stdout"
        }
      ]
    },
    {
      "metadata": {
        "id": "u82ApOJ-7f6Z",
        "colab_type": "text"
      },
      "cell_type": "markdown",
      "source": [
        "## Step 3. Setup the tokenizer"
      ]
    },
    {
      "metadata": {
        "id": "uxOlSJi75eGi",
        "colab_type": "code",
        "colab": {}
      },
      "cell_type": "code",
      "source": [
        "torch.cuda.set_device(0)"
      ],
      "execution_count": 0,
      "outputs": []
    },
    {
      "metadata": {
        "id": "TvQJWgX65eGm",
        "colab_type": "code",
        "colab": {}
      },
      "cell_type": "code",
      "source": [
        "path = Path('.')"
      ],
      "execution_count": 0,
      "outputs": []
    },
    {
      "metadata": {
        "id": "t8bVrmr95eGq",
        "colab_type": "code",
        "colab": {}
      },
      "cell_type": "code",
      "source": [
        "class TamilTokenizer(BaseTokenizer):\n",
        "    def __init__(self, lang:str):\n",
        "        self.lang = lang\n",
        "        self.sp = spm.SentencePieceProcessor()\n",
        "        self.sp.Load(str(\"tamil_spm_8k.model\"))\n",
        "        \n",
        "    def tokenizer(self, t:str) -> List[str]:\n",
        "        return self.sp.EncodeAsPieces(t)"
      ],
      "execution_count": 0,
      "outputs": []
    },
    {
      "metadata": {
        "id": "PkVNKfuT5eGu",
        "colab_type": "code",
        "colab": {}
      },
      "cell_type": "code",
      "source": [
        "sp = spm.SentencePieceProcessor()\n",
        "sp.Load(str('tamil_spm_8k.model'))\n",
        "itos = [sp.IdToPiece(int(i)) for i in range(8000)]"
      ],
      "execution_count": 0,
      "outputs": []
    },
    {
      "metadata": {
        "id": "q_a4JTII5eGy",
        "colab_type": "code",
        "colab": {}
      },
      "cell_type": "code",
      "source": [
        "tamil_vocab = Vocab(itos)"
      ],
      "execution_count": 0,
      "outputs": []
    },
    {
      "metadata": {
        "id": "p-guKZn65eG2",
        "colab_type": "code",
        "colab": {}
      },
      "cell_type": "code",
      "source": [
        "tokenizer = Tokenizer(tok_func=TamilTokenizer, lang='ta')"
      ],
      "execution_count": 0,
      "outputs": []
    },
    {
      "metadata": {
        "id": "1CW2T8_s5eG6",
        "colab_type": "code",
        "outputId": "2959463e-fd4a-4694-b6ac-df5a30df89ac",
        "colab": {
          "base_uri": "https://localhost:8080/",
          "height": 173
        }
      },
      "cell_type": "code",
      "source": [
        "tokenizer.special_cases"
      ],
      "execution_count": 32,
      "outputs": [
        {
          "output_type": "execute_result",
          "data": {
            "text/plain": [
              "['xxunk',\n",
              " 'xxpad',\n",
              " 'xxbos',\n",
              " 'xxeos',\n",
              " 'xxfld',\n",
              " 'xxmaj',\n",
              " 'xxup',\n",
              " 'xxrep',\n",
              " 'xxwrep']"
            ]
          },
          "metadata": {
            "tags": []
          },
          "execution_count": 32
        }
      ]
    },
    {
      "metadata": {
        "id": "Z3upEtqE5eHB",
        "colab_type": "text"
      },
      "cell_type": "markdown",
      "source": [
        "## Step 4. Load the Data"
      ]
    },
    {
      "metadata": {
        "id": "QuO3SRVQ5eHC",
        "colab_type": "code",
        "colab": {}
      },
      "cell_type": "code",
      "source": [
        "data_lm = load_data('.', 'data_lm_tawiki_8k.pkl')"
      ],
      "execution_count": 0,
      "outputs": []
    },
    {
      "metadata": {
        "id": "Jbg2TuYa5eHF",
        "colab_type": "code",
        "outputId": "ecbf3047-955f-4781-990e-7a4bc468fbbe",
        "colab": {
          "base_uri": "https://localhost:8080/",
          "height": 354
        }
      },
      "cell_type": "code",
      "source": [
        "data_lm.show_batch()"
      ],
      "execution_count": 38,
      "outputs": [
        {
          "output_type": "display_data",
          "data": {
            "text/html": [
              "<table border=\"1\" class=\"dataframe\">\n",
              "  <thead>\n",
              "    <tr style=\"text-align: right;\">\n",
              "      <th>idx</th>\n",
              "      <th>text</th>\n",
              "    </tr>\n",
              "  </thead>\n",
              "  <tbody>\n",
              "    <tr>\n",
              "      <td>0</td>\n",
              "      <td>▁c ric k et &lt;unk&gt; ▁a s s o ci ation &lt;unk&gt; ▁s ta d ium ) ▁என்பது ▁ராஜ் கோட் , இந்தியா வில் ▁உள்ள ▁துடுப்பாட்ட ▁அரங்க ம் ▁ஆகும் . ▁இது ▁இது ▁காந்த ேரி ▁துடுப்பாட்ட ▁அரங்க ம் ▁எனவும் ▁ அழைக்கப்படுகிறது ) ▁ , ▁இது ▁குசராத் து ▁மாநிலத்தின் ▁முதல் ▁சூரிய ▁ஆற்றல் ▁அரங்க ம் ▁ஆகும் . ▁நவம்பர் ▁ , ▁2015 ▁இல் ▁இந்த ▁அரங்க ம் ▁உட்பட ▁இந்தியாவில் ▁உள்ள ▁ஆறு ▁புதிய ▁துடுப்பாட்ட ▁அரங்க ு கள்</td>\n",
              "    </tr>\n",
              "    <tr>\n",
              "      <td>1</td>\n",
              "      <td>▁ / ▁ wiki ? curi d = 21 08 22 \" ▁title =\" தமிழ் ▁மொழியில் ▁உள்ள ▁பேச்சு ▁வழக்கில் ▁திரி ந்த ▁தமிழ்ச் ▁சொற்கள் \"&gt; ▁தமிழ் ▁மொழியில் ▁உள்ள ▁பேச்சு ▁வழக்கில் ▁திரி ந்த ▁தமிழ்ச் ▁சொற்கள் ▁தமிழ் ▁மொழியில் ▁உள்ள ▁சில ▁சொற்கள் ▁காலப்போக்கில் ▁பேச்சு ▁வழக்கில் ▁பொருள் ▁திரி ந்து ▁எழுத்துக்கள் ▁திரி ந்து ▁உள்ளன . ▁அவற்றின் ▁தொகுப்பு . ▁&lt; ▁ / ▁ doc &gt; ▁&lt; doc ▁id =\" 21 08 23\" ▁ url =\" https :</td>\n",
              "    </tr>\n",
              "    <tr>\n",
              "      <td>2</td>\n",
              "      <td>சி க் மக ளூர் \"&gt; ▁சி க் மக ளூர் ▁சி க் மக ளூர் ▁(\" &lt;unk&gt; ch ick ma g al ur \") ▁இந்தியாவின் ▁கர்நாடகா ▁மாநிலத்தில் ▁சி க்க ம கள ூ ரு ▁மாவட்டத்தில் ▁அமைந்துள்ள ▁ஒரு ▁நகரம் . ▁குளம் பி க்கு ▁( co ff ee ) ▁புகழ்பெற்ற ▁மு ல்ல யா நகர ி ▁மலைத்தொடர் ▁அடி வார த்தில் ▁சி க் ம ங்கள ூர் ▁அமைந்துள்ளது , ▁இது ▁கர்நாடகா வின் ▁குளம் பி ▁விளை யும் ▁நில மாக</td>\n",
              "    </tr>\n",
              "    <tr>\n",
              "      <td>3</td>\n",
              "      <td>▁1 20 ▁மில்லி ▁ஆம் பியர் ▁வரையிலும் ▁உள்ளது . ▁இவ்விரு ▁மின்னோட்ட ங்களும் ▁தனித்தனி யான வை யான ாலும் ▁ஒன்ற ி ற்க ொன்று ▁தொடர்புடைய ன . ▁இவை களை ▁இணைக்கும் ▁ஒரு ▁காரணி ▁எதிர்மின் ▁முனை க்கரு கில் ▁காணப்படும் ▁இட ▁மின்ன ூட்ட மாகும் ▁(\" s p ace ▁c har ge \") . ▁குழாய ில் ▁இரு மின் ▁முனை களுக்கு முள்ள ▁மின் ▁அழுத்த ▁வேறுபாடு ▁( p . d ) ▁குறைவாக ▁உள்ள போது , ▁இழை யிலிருந்து ▁இலத்திரன் கள் ▁வி</td>\n",
              "    </tr>\n",
              "    <tr>\n",
              "      <td>4</td>\n",
              "      <td>ங்கள் ▁இடம்பெற்ற ுள்ள ▁ஒரு ▁சம் பிர தா ய ▁மத மாக ▁இருந்தது . ▁இதனால் ▁ஓவிய ம் ▁மற்றும் ▁சிற்பங்கள் ▁உள்ள ▁பட ங்கள் ▁உட்பட்ட ▁மத ப் ▁பொருட்களை ▁உருவாக்கும் ▁ஊக்க ம் ▁உ ண்ட ானது . ▁1930 ▁ களில் ▁ஸ்டா லி னின் ▁சீர்திருத்த க் ▁கருத்து களுக்குப் ▁பிறகு ▁பௌத்த ம் ▁மற்றும் ▁மத குரு ▁நம்பிக்கை கள் ▁மங்கோலிய ▁மக்கள் ▁குடியரச ில் ▁செல்வ ாக்க ிழந்த ன . ▁உட்புற ▁மங்கோலிய ாவில் ▁பாரம்பரிய ▁மத க் கொள் கை கள் ▁பாதிக்கப்பட்ட ு ▁கலாச்சார</td>\n",
              "    </tr>\n",
              "  </tbody>\n",
              "</table>"
            ],
            "text/plain": [
              "<IPython.core.display.HTML object>"
            ]
          },
          "metadata": {
            "tags": []
          }
        }
      ]
    },
    {
      "metadata": {
        "id": "vfYkEZ495eHJ",
        "colab_type": "code",
        "outputId": "17b22417-8ce4-481c-9de6-af64ca3bfc42",
        "colab": {
          "base_uri": "https://localhost:8080/",
          "height": 35
        }
      },
      "cell_type": "code",
      "source": [
        "len(data_lm.vocab.itos)"
      ],
      "execution_count": 39,
      "outputs": [
        {
          "output_type": "execute_result",
          "data": {
            "text/plain": [
              "8000"
            ]
          },
          "metadata": {
            "tags": []
          },
          "execution_count": 39
        }
      ]
    },
    {
      "metadata": {
        "id": "TUZXdpwk5eHN",
        "colab_type": "text"
      },
      "cell_type": "markdown",
      "source": [
        "## Step 4. Load pretrained model"
      ]
    },
    {
      "metadata": {
        "id": "4v4kzfIG5eHO",
        "colab_type": "code",
        "colab": {}
      },
      "cell_type": "code",
      "source": [
        "learn = language_model_learner(data_lm, AWD_LSTM, drop_mult=0.3, pretrained=False)"
      ],
      "execution_count": 0,
      "outputs": []
    },
    {
      "metadata": {
        "id": "z7qZfeVG5eHR",
        "colab_type": "code",
        "colab": {}
      },
      "cell_type": "code",
      "source": [
        "learn.load('wikitalm_8k_447_third', with_opt=True);"
      ],
      "execution_count": 0,
      "outputs": []
    },
    {
      "metadata": {
        "id": "3nJTHzIm5eHX",
        "colab_type": "text"
      },
      "cell_type": "markdown",
      "source": [
        "## Step 5. Generate sample text from learned model."
      ]
    },
    {
      "metadata": {
        "id": "MK-iZPph5eHY",
        "colab_type": "code",
        "colab": {}
      },
      "cell_type": "code",
      "source": [
        "def create(text, spm=False, N_WORDS=50, N_SENTENCES=4):\n",
        "    TEXT=sp.EncodeAsPieces(text)\n",
        "    TEXT=' '.join(TEXT)\n",
        "    sp_merge=lambda s:s.replace(' ','').replace('▁',' ')\n",
        "    samples=[]\n",
        "    for _ in range(N_SENTENCES):\n",
        "      sample=learn.predict(TEXT, N_WORDS, temperature=0.7)\n",
        "      samples.append(sample)\n",
        "      if spm:\n",
        "          print(sample)\n",
        "          print()\n",
        "    if spm:\n",
        "        print()\n",
        "    for sample in samples:\n",
        "      sample=sp_merge(sample)\n",
        "      print(sample)\n",
        "      print()"
      ],
      "execution_count": 0,
      "outputs": []
    },
    {
      "metadata": {
        "id": "UHMnZ8dm5eHc",
        "colab_type": "code",
        "outputId": "c8b2cd9e-8b0d-4cfa-ee75-a70ee6c2f5c6",
        "colab": {
          "base_uri": "https://localhost:8080/",
          "height": 331
        }
      },
      "cell_type": "code",
      "source": [
        "text='17-ஆம் நூற்றாண்டில்'\n",
        "create(text, spm=True)"
      ],
      "execution_count": 46,
      "outputs": [
        {
          "output_type": "stream",
          "text": [
            "▁17 - ஆம் ▁நூற்றாண்டில் ▁மற்றும் ▁ஆர் த ரிய ப் ▁போ ப்பா ண்ட வர் களை ▁ தற் செயல ாகக் ▁கண்டறிந்த ு ▁நேர் ந்த தாக ▁கருதப்படுகிறது . ▁இது ▁குறித்த ▁ஆய்வு களின் ம் ▁படி வளர்ச்சி க் ▁கால த்தை ▁அடிப்படையாகக் ▁கொண்ட தாகவும் , ▁குறிப்பாக , ▁புதிய ▁சமுதாய ம் ▁மற்றும் ▁புற ப் பரப்பு களின் ▁நடு வே ▁சமய ப் ▁பரப்பு\n",
            "\n",
            "▁17 - ஆம் ▁நூற்றாண்டில் ▁உருவாக்கப்பட்ட து . ▁இந்த ▁ ரை சின் ▁குடும்ப த்தா ரால் ▁மேற்கொள்ள ப்படும் ▁ஒரு ▁புதிய ▁முயற்சி யானது ▁கடந்த ▁10 ▁ஆண்டுகளில் யிர ான் , ▁கால ▁நிறைவு க் ▁காலம் , ▁மற்றும் ▁முன் னோ க்கி ச் ▁சென்ற ுள்ளன ▁என்று ▁கூறப்படுகிறது . ▁வேறு ▁சில ▁பள்ளி களில் ▁இருந்து ம் , ▁பல ▁இடங்களுக்கு ▁ஒரு ▁தனி ச் சிறப்ப\n",
            "\n",
            "▁17 - ஆம் ▁நூற்றாண்டில் , ▁\" \" v il le y \" \" ▁என்ற ▁பெயரில் ▁\" \" நான் ▁செய்ய க் ▁கூடிய ▁நீ ரி ழிவு \" \" ▁என்று ▁அதன் ▁பெயரை ▁மாற்றி க் ▁கொண்டு , ▁அதற்கு ▁' க ங் ரீ னா ' ▁எனப் ▁பெயரிட்ட ார் . ▁அது ▁“ அ ன் பு ▁நீ ங்கள் ” ▁என ▁குறிப்பிட\n",
            "\n",
            "▁17 - ஆம் ▁நூற்றாண்டில் ▁” சா ரா ” , ▁“ இரு ம்பு ” , ▁' பே ரி ஸ் ' , ▁“ சூ ரியன் ” , ▁“ ஆ ல் ’ , ▁“ பி ரை யர் ” , ▁“ பி ரியா ஸ் ” , ▁” பூ ஸ் ” , ▁‘ இ யோ ரி ’ , ▁'\n",
            "\n",
            "\n",
            " 17-ஆம் நூற்றாண்டில் மற்றும் ஆர்தரியப் போப்பாண்டவர்களை தற்செயலாகக் கண்டறிந்து நேர்ந்ததாக கருதப்படுகிறது. இது குறித்த ஆய்வுகளின்ம் படிவளர்ச்சிக் காலத்தை அடிப்படையாகக் கொண்டதாகவும், குறிப்பாக, புதிய சமுதாயம் மற்றும் புறப்பரப்புகளின் நடுவே சமயப் பரப்பு\n",
            "\n",
            " 17-ஆம் நூற்றாண்டில் உருவாக்கப்பட்டது. இந்த ரைசின் குடும்பத்தாரால் மேற்கொள்ளப்படும் ஒரு புதிய முயற்சியானது கடந்த 10 ஆண்டுகளில்யிரான், கால நிறைவுக் காலம், மற்றும் முன்னோக்கிச் சென்றுள்ளன என்று கூறப்படுகிறது. வேறு சில பள்ளிகளில் இருந்தும், பல இடங்களுக்கு ஒரு தனிச்சிறப்ப\n",
            "\n",
            " 17-ஆம் நூற்றாண்டில், \"\"villey\"\" என்ற பெயரில் \"\"நான் செய்யக் கூடிய நீரிழிவு\"\" என்று அதன் பெயரை மாற்றிக் கொண்டு, அதற்கு 'கங்ரீனா' எனப் பெயரிட்டார். அது “அன்பு நீங்கள்” என குறிப்பிட\n",
            "\n",
            " 17-ஆம் நூற்றாண்டில் ”சாரா”, “இரும்பு”, 'பேரிஸ்', “சூரியன்”, “ஆல்’, “பிரையர்”, “பிரியாஸ்”, ”பூஸ்”, ‘இயோரி’, '\n",
            "\n"
          ],
          "name": "stdout"
        }
      ]
    },
    {
      "metadata": {
        "id": "tLZKbB4J5eHg",
        "colab_type": "code",
        "outputId": "dbdc883b-0414-40c6-c5f9-8f12f446bac8",
        "colab": {
          "base_uri": "https://localhost:8080/",
          "height": 175
        }
      },
      "cell_type": "code",
      "source": [
        "text='தனது ஆட்சிக் காலத்தில் பிரான்சின் அரசுத்தலைவர்'\n",
        "create(text)"
      ],
      "execution_count": 47,
      "outputs": [
        {
          "output_type": "stream",
          "text": [
            " தனது ஆட்சிக் காலத்தில் பிரான்சின் அரசுத்தலைவர், மன்னர் முதலியோர் இருந்தனர். < / doc> <doc id=\"212709\" url=\"https: / / ta.wikipedia.org / wiki?curid=213209\" title=\"வே\n",
            "\n",
            " தனது ஆட்சிக் காலத்தில் பிரான்சின் அரசுத்தலைவர் முர்ரே வின்சன்ட் மற்றும் அவரது மனைவி பிரவுன் ஆகியோரின் சகோதரன் சதியாவிடமிருந்து விடுதலை பெற்று, மன்சப்தாரியின் இடத்தைப் பிடிக்காமல் நடந்து கொள்ளவில்லை. ஆண்களை பெண்களுக்குக் கொண்டு சென்ற போது, மீண்டும் ஆணுறை\n",
            "\n",
            " தனது ஆட்சிக் காலத்தில் பிரான்சின் அரசுத்தலைவர் மன்ஹாட்டன் ட்ரெஷ்வாவை இடித்துவிட்டு, லைபீரியாவுக்கு வெளியே, லின்டாக், வெர்ஜின், ஸ்கைஸ்காடன், கோடாஸ்ட், ட்ரோலிங், லிட்டில் டேல்\n",
            "\n",
            " தனது ஆட்சிக் காலத்தில் பிரான்சின் அரசுத்தலைவர் எட்வர்டு மார்ட்டின் பிரபுவின் ஆட்சியின் கீழ் வந்தது. இதன் போது இந்த யுத்தத்தின் போது, பதினேழாம் நூற்றாண்டில், மானிடர்களின் வளர்ச்சியை தடுக்க பல திட்டங்களை வகுத்தது. இச்சபையின் நிறுவனர் கணிசமாக இருந்தார். இதன்\n",
            "\n"
          ],
          "name": "stdout"
        }
      ]
    },
    {
      "metadata": {
        "id": "taSqkQv95eHk",
        "colab_type": "code",
        "outputId": "77631ce4-c91e-4cd3-bdca-119e6f5e81f0",
        "colab": {
          "base_uri": "https://localhost:8080/",
          "height": 175
        }
      },
      "cell_type": "code",
      "source": [
        "text='இன்று இவர் பிரான்ஸ், ஜேர்மனி ஆகிய'\n",
        "text='இவரது ஆக்கங்கள் பல்வேறு'\n",
        "create(text)"
      ],
      "execution_count": 48,
      "outputs": [
        {
          "output_type": "stream",
          "text": [
            " இவரது ஆக்கங்கள் பல்வேறுபட்ட மூலக்கூற்றில் உள்ளடக்கப்பட்டுள்ளன. < / doc> <doc id=\"191495\" url=\"https: / / ta.wikipedia.org / wiki?curid=191498\" title\n",
            "\n",
            " இவரது ஆக்கங்கள் பல்வேறு பொருட்கள்,பட்டியல்கள், அணிகலன்கள், வெற்றிகிணறுகள், பல்வகையான வாகனங்கள், பண்ணைகள், பாறைகள் மற்றும் நகைகள் ஆகியவற்றைப் பயன்படுத்திக்கொண்டுன. இதுபோன்று, பருவம் மற்றும் வருடாந்திர நாணயங்கள்\n",
            "\n",
            " இவரது ஆக்கங்கள் பல்வேறுபட்ட விவரக் கூற்றுகளுடன் இணைக்கப்பட்டுள்ளன. அவை: < / doc> <doc id=\"191294\" url=\"https: / / ta.wikipedia.org / wiki?curid=191294\n",
            "\n",
            " இவரது ஆக்கங்கள் பல்வேறு வகையிலும் உள்ளன. ஒருசிலரும் இவ்வளிமையில் தங்கள் உறவுகளை வெளிப்படுத்திக் கொள்கிறார்கள். இவர்களைக் கொண்டு அறியப்படவில்லை. இருந்தும் அவர்களுக்காக சவாலுக்குரிய மிக உயரிய விருதான பத்மசிறீ விருது வழங்கி சிறப்பிக்கப்படுகின்றது.\n",
            "\n"
          ],
          "name": "stdout"
        }
      ]
    },
    {
      "metadata": {
        "id": "ng4e1qFA5eHn",
        "colab_type": "text"
      },
      "cell_type": "markdown",
      "source": [
        "## Step 6. Prompt it to create entire article segments from scratch."
      ]
    },
    {
      "metadata": {
        "id": "pId1HkTZ5eHo",
        "colab_type": "code",
        "outputId": "f0751498-334e-4747-e144-f36028763de6",
        "colab": {
          "base_uri": "https://localhost:8080/",
          "height": 35
        }
      },
      "cell_type": "code",
      "source": [
        "sp_merge=lambda s:s.replace(' ','').replace('▁',' ')\n",
        "sp_merge('<doc id=\"91202\" url=\"https: / / ta.wikipedia.org / wiki?')"
      ],
      "execution_count": 49,
      "outputs": [
        {
          "output_type": "execute_result",
          "data": {
            "text/plain": [
              "'<docid=\"91202\"url=\"https://ta.wikipedia.org/wiki?'"
            ]
          },
          "metadata": {
            "tags": []
          },
          "execution_count": 49
        }
      ]
    },
    {
      "metadata": {
        "id": "TUfIz1oS5eHt",
        "colab_type": "code",
        "outputId": "acc7058d-b157-449f-e808-ebf6997d7752",
        "colab": {
          "base_uri": "https://localhost:8080/",
          "height": 383
        }
      },
      "cell_type": "code",
      "source": [
        "create('<doc id=\"52700\" url=\"https://ta.wikipedia.org/wiki?', N_WORDS=200, N_SENTENCES=10)"
      ],
      "execution_count": 50,
      "outputs": [
        {
          "output_type": "stream",
          "text": [
            " <doc id=\"52700\" url=\"https://ta.wikipedia.org/wiki? www.twofa.com / tamil / article107904.html < / doc> <doc id=\"160883\" url=\"https: / / ta.wikipedia.org / wiki?curid=160883\" title=\"பொருளாதாரம்\"> பொருளாதாரம் பொருளாதாரம் என்பது உற்பத்தி மற்றும் உற்பத்தியின் ஒரு உற்பத்தி ஆகும். அது உற்பத்தி, உற்பத்தி, உற்பத்தி, உற்பத்தி, உற்பத்தி, உற்பத்தி, மேலாண்மை, உற்பத்தி, விநியோகம் என பல துறைகளிலும் உற்பத்தி செய்யப்படுகின்றன. அடிப்படை உற்பத்தியாளர்களின் எண்ணிக்கை, உற்பத்தி, உற்பத்தி, உற்பத்தி, உற்பத்தி மற்றும் உற்பத்தி, உற்பத்தி, உற்பத்தி, உற்பத்தி, உற்பத்தி, நுகர்வோர் மற்றும் வேளாண்மை, உற்பத்தி, உற்பத்தி, தொழில்துறை, பானம் ஆகியவற்றைப் பயன்படுத்துகிறது. < / doc> <doc id=\"81413\" url=\"https: / / ta.wikipedia.org / wiki?curid=82613\" title\n",
            "\n",
            " <doc id=\"52700\" url=\"https://ta.wikipedia.org/wiki? / http: / / www.news.com / national / films / 2016 / 08 / blog-post_10.html < / doc> <doc id=\"190598\" url=\"https: / / ta.wikipedia.org / wiki?curid=190594\" title=\"உயிரியல்\"> உயிரியல் உயிரியல் (modology) என்பது, ஒரு குறிப்பிட்ட கால இடைவெளியில் உயிரினங்கள், விலங்குகள், விலங்குகள் போன்றவற்றின் தீய விளைவுகளைப் பற்றி அறிந்து கொள்ள உதவும் ஓர் உயிரியல் செயல்முறையாகும். பூச்சூல் என்பது, அறிவியல் துறையாகும். இது, ஒரு விலங்கு அல்லது தாவரப் பேரினத்தை, அதாவது வன விலங்குகளின் தலைப் பகுதியிலிருந்து, உள்ளிழுப்பவர், மாதம், மரம் போன்றவற்றில் இருந்து பெறப்படுகிறது. முதுகெலும்பியில், தாவரங்களின் இலைகள், விலங்குகளின் வாழ்விடங்களை, அவற்றின் மூலக்கூறுகள், அவற்றின் பகுதியாகும். மேலும், ஒரு கல\n",
            "\n",
            " <doc id=\"52700\" url=\"https://ta.wikipedia.org/wiki?archive web valllie.com / http: / / www.varkada.com / ?t&source=web&cd=1&cad=rja&uact=8&abt=l&rct=j&source=web&cd=3&cad=rja&uact=8&ved=0ahukewjowbhwiajgckhxhjuahvpvg&url=http%3a%2f%2fwww.kerentali.com / tamil.php?id=921 / > < / doc> <doc id=\"161017\" url=\"https: / / ta.wikipedia.org / \n",
            "\n",
            " <doc id=\"52700\" url=\"https://ta.wikipedia.org/wiki? / http: / / www.easternce.com / grint / hydcd-samma-dise-ranger / charkan-suppelling / tamil-de-shitail-whan-samuja-sans-language-to-studied-water-source-world-flight-hag-supplement-read-assyn-dellow-addal-by-botan-group / the / enthals-the-world-world-history / 7 / 91.html < / doc> <doc id=\"222065\" \n",
            "\n",
            " <doc id=\"52700\" url=\"https://ta.wikipedia.org/wiki? xxrep 4 [ ] பகுப்பு : 1.https: / / en.wikipedia.org / wiki / engine / _comple=flood http: / / www.disbillar.com / content / hypothes / two / 1117504.html http: / / www.dinamalar.com / dml-center-re-bind-most-hyphagar-basus-guas-i / ref>< / ref> 16.7.2016 ஆம் ஆண்டு, க்ரிம் இன் மெர்ஜெட், ஹோஸ் லைஃப் அசோசியேஷன் அண்ட் கிறிஸ்டோபர் ஸ்கிரெஞ்ச் (\n",
            "\n",
            " <doc id=\"52700\" url=\"https://ta.wikipedia.org/wiki?t=1 xxrep 4 0 http: / / www.google.co.in / url?sa=t&rct=j&rct=j&rcc=rc=rct=வாயு& http: / / www.kouth.com / news / web.php?title=http: / / www.agittainday.com / news / ripple / grammetismail.aspx?b=sbcso2kh8ma&sign=x&s=book&source=web&cd=10&cad=rja&uact=8&ved=0ahukewjof\n",
            "\n",
            " <doc id=\"52700\" url=\"https://ta.wikipedia.org/wiki?b / > < / doc> <doc id=\"220883\" url=\"https: / / ta.wikipedia.org / wiki?curid=220848\" title=\"எஸ். கிருஷ்ணன்\"> எஸ். கிருஷ்ணன் எஸ். கிருஷ்ணன் () என்பவர் ஒரு இந்திய அரசியல்வாதியும், தமிழகத்தின் முன்னாள் சட்டமன்ற உறுப்பினரும் ஆவார். இவர் இந்திய தேசிய காங்கிரஸ் கட்சியின் சார்பில் தேர்ந்தெடுக்கப்பட்டார். இவர், 2001 ஆம் ஆண்டு நடைபெற்ற தமிழ்நாடு சட்டமன்றத் தேர்தலில் மராட்டிய தொகுதியிலிருந்து, திராவிட முன்னேற்றக் கழக வேட்பாளராக தமிழ்நாடு சட்டமன்றத்திற்குத் தேர்ந்தெடுக்கப்பட்டார். < / doc> <doc id=\"229796\" url=\"https: / / ta.wikipedia.org / wiki?curid=229796\" title=\"நீல் கொறரம்\"> நீல் கொறணம் நீல் கொறசம் \"(nalayam people)\" ஆஸ்திரேலியாவின் ஒரு மாகாண அமைப்பாகும். இது இந்தியாவை சேர்ந்த 29 மாநிலங்களுள் ஒன்றாகும். இதன் தலைவர் மற்றும் முன்னாள் பிரதமர் கதீட்ரல்\n",
            "\n",
            " <doc id=\"52700\" url=\"https://ta.wikipedia.org/wiki?\" http: / / www.poollebooks.com / about / tamil / specifical / en-tamil மற்றும்tail.asp?phd=all&usg=aftdo-14gbp_aflgtmaw2fo9 cba1n_jo_9!2glt3g3mzobba%2map / hrmo2 / > < / doc> <doc id=\"162126\" url=\"https: / / ta.wikipedia.org / wiki?curid=162127\" title=\"க்கிரத் சரோஞ்ச்\"> நத் சரோத் சரோத் சரோத் சரோஜா (\"saras hungala\n",
            "\n",
            " <doc id=\"52700\" url=\"https://ta.wikipedia.org/wiki?sel-twa-tyer-turcollese-food-alternal outfort-slege of specificational history of the controlley of complex of an his computers recomputers be been it established that differentiation of a liberal radio disconsion conservation. the still as center for the discovery reducing from the revery of more through the report as use many that this cycle, which an durch one work\n",
            "\n",
            " <doc id=\"52700\" url=\"https://ta.wikipedia.org/wiki? or anti al-raubo, sattura two transmitch war visulation drages. http: / / www.scriming.com / http: / / en.wikipedia.org / wiki / _itope_t_display_temple / story_history_family < / doc> <doc id=\"321933\" url=\"https: / / ta.wikipedia.org / wiki?curid=321915\" title=\"ஏ. சி. ஆர். (நெல்)\"> ஏ. சி. ஆர். (நெல்) ஏ. சி. ஆர். (\"adammada\") தமிழ்நாடு, நாமக்கல் மாவட்டம், தேன்கனிக்கோட்டை வட்டத்தைச் சேர்ந்த சிற்றூர்\n",
            "\n"
          ],
          "name": "stdout"
        }
      ]
    },
    {
      "metadata": {
        "id": "Yixm1Tsy5eHy",
        "colab_type": "text"
      },
      "cell_type": "markdown",
      "source": [
        "## I am amazed by these two sentences on chemical reaction: \n",
        "ஒரு பொருள் வெப்பம் அடைந்து வேதிப்பொருளாக வினைபுரிகிறது. \n",
        "வினையின் இறுதி வினையில் வினையின் விளைவுகள் தோன்றுகின்றன."
      ]
    },
    {
      "metadata": {
        "id": "EEqnm9rE5eHz",
        "colab_type": "code",
        "colab": {}
      },
      "cell_type": "code",
      "source": [
        "# Following code is adapted from: https://github.com/cstorm125/thai2fit/blob/master/thwiki_lm/thwiki_lm.ipynb"
      ],
      "execution_count": 0,
      "outputs": []
    },
    {
      "metadata": {
        "id": "wvdJE2di5eH7",
        "colab_type": "code",
        "outputId": "6b1cbd0a-7762-4c79-948e-f6259aa728b9",
        "colab": {
          "base_uri": "https://localhost:8080/",
          "height": 35
        }
      },
      "cell_type": "code",
      "source": [
        "#how we extracted the embeddings\n",
        "emb_weights = list(learn.model.named_parameters())[0][1]\n",
        "emb_np = to_np(emb_weights.data)\n",
        "emb_np.shape"
      ],
      "execution_count": 61,
      "outputs": [
        {
          "output_type": "execute_result",
          "data": {
            "text/plain": [
              "(8000, 400)"
            ]
          },
          "metadata": {
            "tags": []
          },
          "execution_count": 61
        }
      ]
    },
    {
      "metadata": {
        "id": "tJFi_iDB5eH_",
        "colab_type": "code",
        "colab": {}
      },
      "cell_type": "code",
      "source": [
        "import pandas as pd"
      ],
      "execution_count": 0,
      "outputs": []
    },
    {
      "metadata": {
        "id": "2Ltr839d5eIC",
        "colab_type": "code",
        "outputId": "3ebed585-7d87-4bb2-b877-a678a064dc30",
        "colab": {
          "base_uri": "https://localhost:8080/",
          "height": 415
        }
      },
      "cell_type": "code",
      "source": [
        "tamilvec = pd.DataFrame(emb_np)\n",
        "tamilvec.index = data_lm.vocab.itos\n",
        "print(tamilvec.shape)\n",
        "tamilvec.tail(10)"
      ],
      "execution_count": 63,
      "outputs": [
        {
          "output_type": "stream",
          "text": [
            "(8000, 400)\n"
          ],
          "name": "stdout"
        },
        {
          "output_type": "execute_result",
          "data": {
            "text/html": [
              "<div>\n",
              "<style scoped>\n",
              "    .dataframe tbody tr th:only-of-type {\n",
              "        vertical-align: middle;\n",
              "    }\n",
              "\n",
              "    .dataframe tbody tr th {\n",
              "        vertical-align: top;\n",
              "    }\n",
              "\n",
              "    .dataframe thead th {\n",
              "        text-align: right;\n",
              "    }\n",
              "</style>\n",
              "<table border=\"1\" class=\"dataframe\">\n",
              "  <thead>\n",
              "    <tr style=\"text-align: right;\">\n",
              "      <th></th>\n",
              "      <th>0</th>\n",
              "      <th>1</th>\n",
              "      <th>2</th>\n",
              "      <th>3</th>\n",
              "      <th>4</th>\n",
              "      <th>5</th>\n",
              "      <th>6</th>\n",
              "      <th>7</th>\n",
              "      <th>8</th>\n",
              "      <th>9</th>\n",
              "      <th>...</th>\n",
              "      <th>390</th>\n",
              "      <th>391</th>\n",
              "      <th>392</th>\n",
              "      <th>393</th>\n",
              "      <th>394</th>\n",
              "      <th>395</th>\n",
              "      <th>396</th>\n",
              "      <th>397</th>\n",
              "      <th>398</th>\n",
              "      <th>399</th>\n",
              "    </tr>\n",
              "  </thead>\n",
              "  <tbody>\n",
              "    <tr>\n",
              "      <th>▁இருபத்தி</th>\n",
              "      <td>-1.077665</td>\n",
              "      <td>-0.390356</td>\n",
              "      <td>0.163234</td>\n",
              "      <td>0.283401</td>\n",
              "      <td>-1.093594</td>\n",
              "      <td>0.503261</td>\n",
              "      <td>0.321981</td>\n",
              "      <td>0.401306</td>\n",
              "      <td>0.076390</td>\n",
              "      <td>0.727045</td>\n",
              "      <td>...</td>\n",
              "      <td>-0.325647</td>\n",
              "      <td>-0.522335</td>\n",
              "      <td>-0.188289</td>\n",
              "      <td>-0.356652</td>\n",
              "      <td>-0.485064</td>\n",
              "      <td>-0.121918</td>\n",
              "      <td>-0.449520</td>\n",
              "      <td>-0.116807</td>\n",
              "      <td>-0.113558</td>\n",
              "      <td>0.338918</td>\n",
              "    </tr>\n",
              "    <tr>\n",
              "      <th>▁சந்தர்ப்ப</th>\n",
              "      <td>-0.121100</td>\n",
              "      <td>-0.049716</td>\n",
              "      <td>-0.167197</td>\n",
              "      <td>0.365919</td>\n",
              "      <td>-1.635901</td>\n",
              "      <td>1.082761</td>\n",
              "      <td>-0.331799</td>\n",
              "      <td>-0.512262</td>\n",
              "      <td>-0.723081</td>\n",
              "      <td>0.198193</td>\n",
              "      <td>...</td>\n",
              "      <td>-0.447440</td>\n",
              "      <td>0.219738</td>\n",
              "      <td>-0.426128</td>\n",
              "      <td>-0.254355</td>\n",
              "      <td>0.416040</td>\n",
              "      <td>0.167318</td>\n",
              "      <td>-0.591591</td>\n",
              "      <td>0.540607</td>\n",
              "      <td>-0.062622</td>\n",
              "      <td>0.472127</td>\n",
              "    </tr>\n",
              "    <tr>\n",
              "      <th>சமூக</th>\n",
              "      <td>0.209300</td>\n",
              "      <td>0.599686</td>\n",
              "      <td>0.039264</td>\n",
              "      <td>0.364590</td>\n",
              "      <td>-1.840876</td>\n",
              "      <td>0.746350</td>\n",
              "      <td>0.312119</td>\n",
              "      <td>-0.538757</td>\n",
              "      <td>-1.021886</td>\n",
              "      <td>-0.038306</td>\n",
              "      <td>...</td>\n",
              "      <td>-0.784274</td>\n",
              "      <td>-0.125212</td>\n",
              "      <td>-0.364481</td>\n",
              "      <td>-0.409861</td>\n",
              "      <td>-1.035161</td>\n",
              "      <td>0.422461</td>\n",
              "      <td>-0.901599</td>\n",
              "      <td>0.352806</td>\n",
              "      <td>0.328277</td>\n",
              "      <td>0.911684</td>\n",
              "    </tr>\n",
              "    <tr>\n",
              "      <th>▁வற்புறுத்த</th>\n",
              "      <td>-0.426133</td>\n",
              "      <td>0.192765</td>\n",
              "      <td>0.032120</td>\n",
              "      <td>-0.392156</td>\n",
              "      <td>-1.239767</td>\n",
              "      <td>0.556953</td>\n",
              "      <td>0.268325</td>\n",
              "      <td>-0.056107</td>\n",
              "      <td>-1.168194</td>\n",
              "      <td>0.245597</td>\n",
              "      <td>...</td>\n",
              "      <td>-0.444652</td>\n",
              "      <td>-0.382560</td>\n",
              "      <td>-0.342674</td>\n",
              "      <td>-0.075639</td>\n",
              "      <td>-0.399160</td>\n",
              "      <td>0.054154</td>\n",
              "      <td>-0.710152</td>\n",
              "      <td>0.367050</td>\n",
              "      <td>0.494992</td>\n",
              "      <td>0.724223</td>\n",
              "    </tr>\n",
              "    <tr>\n",
              "      <th>▁கூகுள்</th>\n",
              "      <td>-0.485771</td>\n",
              "      <td>0.094991</td>\n",
              "      <td>0.122683</td>\n",
              "      <td>0.529538</td>\n",
              "      <td>-1.633889</td>\n",
              "      <td>0.722075</td>\n",
              "      <td>-0.180137</td>\n",
              "      <td>0.111167</td>\n",
              "      <td>-1.436899</td>\n",
              "      <td>0.640899</td>\n",
              "      <td>...</td>\n",
              "      <td>-0.305726</td>\n",
              "      <td>-0.358842</td>\n",
              "      <td>0.399187</td>\n",
              "      <td>-0.595666</td>\n",
              "      <td>-0.730073</td>\n",
              "      <td>-0.012862</td>\n",
              "      <td>-0.467213</td>\n",
              "      <td>0.846618</td>\n",
              "      <td>-0.061463</td>\n",
              "      <td>-0.000046</td>\n",
              "    </tr>\n",
              "    <tr>\n",
              "      <th>▁பிரசித்தி</th>\n",
              "      <td>-0.039581</td>\n",
              "      <td>-0.460073</td>\n",
              "      <td>0.109150</td>\n",
              "      <td>0.130076</td>\n",
              "      <td>-1.213040</td>\n",
              "      <td>0.653963</td>\n",
              "      <td>-0.115663</td>\n",
              "      <td>-0.748029</td>\n",
              "      <td>-1.023990</td>\n",
              "      <td>0.631861</td>\n",
              "      <td>...</td>\n",
              "      <td>-0.744943</td>\n",
              "      <td>-0.007287</td>\n",
              "      <td>0.159883</td>\n",
              "      <td>-0.335717</td>\n",
              "      <td>-1.102930</td>\n",
              "      <td>-0.095574</td>\n",
              "      <td>-0.667286</td>\n",
              "      <td>0.495898</td>\n",
              "      <td>0.475527</td>\n",
              "      <td>-0.187048</td>\n",
              "    </tr>\n",
              "    <tr>\n",
              "      <th>▁சீக்கியர்கள</th>\n",
              "      <td>-0.457573</td>\n",
              "      <td>-0.029164</td>\n",
              "      <td>0.267646</td>\n",
              "      <td>0.384505</td>\n",
              "      <td>-0.755809</td>\n",
              "      <td>0.871107</td>\n",
              "      <td>0.213756</td>\n",
              "      <td>0.196102</td>\n",
              "      <td>-1.500173</td>\n",
              "      <td>0.445593</td>\n",
              "      <td>...</td>\n",
              "      <td>-0.522237</td>\n",
              "      <td>0.404235</td>\n",
              "      <td>-0.183606</td>\n",
              "      <td>-0.075815</td>\n",
              "      <td>-0.504381</td>\n",
              "      <td>-0.235018</td>\n",
              "      <td>-0.947623</td>\n",
              "      <td>0.127727</td>\n",
              "      <td>0.167060</td>\n",
              "      <td>-0.604006</td>\n",
              "    </tr>\n",
              "    <tr>\n",
              "      <th>▁மத்திமம்</th>\n",
              "      <td>-0.537851</td>\n",
              "      <td>0.323388</td>\n",
              "      <td>-0.127235</td>\n",
              "      <td>0.247344</td>\n",
              "      <td>-1.732942</td>\n",
              "      <td>0.839073</td>\n",
              "      <td>-0.374221</td>\n",
              "      <td>-0.406411</td>\n",
              "      <td>-0.810076</td>\n",
              "      <td>0.052043</td>\n",
              "      <td>...</td>\n",
              "      <td>0.429243</td>\n",
              "      <td>-0.557794</td>\n",
              "      <td>-0.199908</td>\n",
              "      <td>-0.246132</td>\n",
              "      <td>-0.220002</td>\n",
              "      <td>0.181184</td>\n",
              "      <td>-0.230351</td>\n",
              "      <td>-0.076691</td>\n",
              "      <td>0.397272</td>\n",
              "      <td>0.882706</td>\n",
              "    </tr>\n",
              "    <tr>\n",
              "      <th>“</th>\n",
              "      <td>-0.487057</td>\n",
              "      <td>0.101350</td>\n",
              "      <td>0.323846</td>\n",
              "      <td>0.379314</td>\n",
              "      <td>-1.294675</td>\n",
              "      <td>0.587669</td>\n",
              "      <td>0.423591</td>\n",
              "      <td>-0.214962</td>\n",
              "      <td>-1.348075</td>\n",
              "      <td>0.608770</td>\n",
              "      <td>...</td>\n",
              "      <td>-0.735086</td>\n",
              "      <td>-0.604390</td>\n",
              "      <td>0.388983</td>\n",
              "      <td>-0.206811</td>\n",
              "      <td>-1.178709</td>\n",
              "      <td>-1.793508</td>\n",
              "      <td>-0.123695</td>\n",
              "      <td>0.008620</td>\n",
              "      <td>-0.169480</td>\n",
              "      <td>0.077503</td>\n",
              "    </tr>\n",
              "    <tr>\n",
              "      <th>‘</th>\n",
              "      <td>-1.062528</td>\n",
              "      <td>-0.326936</td>\n",
              "      <td>-0.282349</td>\n",
              "      <td>0.499380</td>\n",
              "      <td>-1.066751</td>\n",
              "      <td>0.758417</td>\n",
              "      <td>-0.177993</td>\n",
              "      <td>-0.499733</td>\n",
              "      <td>-1.039507</td>\n",
              "      <td>0.274381</td>\n",
              "      <td>...</td>\n",
              "      <td>-0.243882</td>\n",
              "      <td>-0.269090</td>\n",
              "      <td>0.277599</td>\n",
              "      <td>-0.375555</td>\n",
              "      <td>-1.238790</td>\n",
              "      <td>0.933866</td>\n",
              "      <td>0.082637</td>\n",
              "      <td>-0.540410</td>\n",
              "      <td>0.465956</td>\n",
              "      <td>0.394246</td>\n",
              "    </tr>\n",
              "  </tbody>\n",
              "</table>\n",
              "<p>10 rows × 400 columns</p>\n",
              "</div>"
            ],
            "text/plain": [
              "                   0         1         2         3         4         5    \\\n",
              "▁இருபத்தி    -1.077665 -0.390356  0.163234  0.283401 -1.093594  0.503261   \n",
              "▁சந்தர்ப்ப   -0.121100 -0.049716 -0.167197  0.365919 -1.635901  1.082761   \n",
              "சமூக          0.209300  0.599686  0.039264  0.364590 -1.840876  0.746350   \n",
              "▁வற்புறுத்த  -0.426133  0.192765  0.032120 -0.392156 -1.239767  0.556953   \n",
              "▁கூகுள்      -0.485771  0.094991  0.122683  0.529538 -1.633889  0.722075   \n",
              "▁பிரசித்தி   -0.039581 -0.460073  0.109150  0.130076 -1.213040  0.653963   \n",
              "▁சீக்கியர்கள -0.457573 -0.029164  0.267646  0.384505 -0.755809  0.871107   \n",
              "▁மத்திமம்    -0.537851  0.323388 -0.127235  0.247344 -1.732942  0.839073   \n",
              "“            -0.487057  0.101350  0.323846  0.379314 -1.294675  0.587669   \n",
              "‘            -1.062528 -0.326936 -0.282349  0.499380 -1.066751  0.758417   \n",
              "\n",
              "                   6         7         8         9      ...          390  \\\n",
              "▁இருபத்தி     0.321981  0.401306  0.076390  0.727045    ...    -0.325647   \n",
              "▁சந்தர்ப்ப   -0.331799 -0.512262 -0.723081  0.198193    ...    -0.447440   \n",
              "சமூக          0.312119 -0.538757 -1.021886 -0.038306    ...    -0.784274   \n",
              "▁வற்புறுத்த   0.268325 -0.056107 -1.168194  0.245597    ...    -0.444652   \n",
              "▁கூகுள்      -0.180137  0.111167 -1.436899  0.640899    ...    -0.305726   \n",
              "▁பிரசித்தி   -0.115663 -0.748029 -1.023990  0.631861    ...    -0.744943   \n",
              "▁சீக்கியர்கள  0.213756  0.196102 -1.500173  0.445593    ...    -0.522237   \n",
              "▁மத்திமம்    -0.374221 -0.406411 -0.810076  0.052043    ...     0.429243   \n",
              "“             0.423591 -0.214962 -1.348075  0.608770    ...    -0.735086   \n",
              "‘            -0.177993 -0.499733 -1.039507  0.274381    ...    -0.243882   \n",
              "\n",
              "                   391       392       393       394       395       396  \\\n",
              "▁இருபத்தி    -0.522335 -0.188289 -0.356652 -0.485064 -0.121918 -0.449520   \n",
              "▁சந்தர்ப்ப    0.219738 -0.426128 -0.254355  0.416040  0.167318 -0.591591   \n",
              "சமூக         -0.125212 -0.364481 -0.409861 -1.035161  0.422461 -0.901599   \n",
              "▁வற்புறுத்த  -0.382560 -0.342674 -0.075639 -0.399160  0.054154 -0.710152   \n",
              "▁கூகுள்      -0.358842  0.399187 -0.595666 -0.730073 -0.012862 -0.467213   \n",
              "▁பிரசித்தி   -0.007287  0.159883 -0.335717 -1.102930 -0.095574 -0.667286   \n",
              "▁சீக்கியர்கள  0.404235 -0.183606 -0.075815 -0.504381 -0.235018 -0.947623   \n",
              "▁மத்திமம்    -0.557794 -0.199908 -0.246132 -0.220002  0.181184 -0.230351   \n",
              "“            -0.604390  0.388983 -0.206811 -1.178709 -1.793508 -0.123695   \n",
              "‘            -0.269090  0.277599 -0.375555 -1.238790  0.933866  0.082637   \n",
              "\n",
              "                   397       398       399  \n",
              "▁இருபத்தி    -0.116807 -0.113558  0.338918  \n",
              "▁சந்தர்ப்ப    0.540607 -0.062622  0.472127  \n",
              "சமூக          0.352806  0.328277  0.911684  \n",
              "▁வற்புறுத்த   0.367050  0.494992  0.724223  \n",
              "▁கூகுள்       0.846618 -0.061463 -0.000046  \n",
              "▁பிரசித்தி    0.495898  0.475527 -0.187048  \n",
              "▁சீக்கியர்கள  0.127727  0.167060 -0.604006  \n",
              "▁மத்திமம்    -0.076691  0.397272  0.882706  \n",
              "“             0.008620 -0.169480  0.077503  \n",
              "‘            -0.540410  0.465956  0.394246  \n",
              "\n",
              "[10 rows x 400 columns]"
            ]
          },
          "metadata": {
            "tags": []
          },
          "execution_count": 63
        }
      ]
    },
    {
      "metadata": {
        "id": "wO3TxKKw5eIF",
        "colab_type": "code",
        "colab": {}
      },
      "cell_type": "code",
      "source": [
        "tamilvec.to_csv('tamilvec_wiki8k.csv')"
      ],
      "execution_count": 0,
      "outputs": []
    },
    {
      "metadata": {
        "id": "qOSCpV8I-C8k",
        "colab_type": "text"
      },
      "cell_type": "markdown",
      "source": [
        "## Exploring Word vectors"
      ]
    },
    {
      "metadata": {
        "id": "YEKJj0qg-SBD",
        "colab_type": "code",
        "colab": {}
      },
      "cell_type": "code",
      "source": [
        "word2index = tamilvec.index\n",
        "wordvec = dict(zip(tamilvec.index, emb_np))\n"
      ],
      "execution_count": 0,
      "outputs": []
    },
    {
      "metadata": {
        "id": "GxkiwYW5_DyM",
        "colab_type": "code",
        "colab": {
          "base_uri": "https://localhost:8080/",
          "height": 35
        },
        "outputId": "56183bdb-d3d0-44e1-bc67-20f303bfbe3a"
      },
      "cell_type": "code",
      "source": [
        "wordvec['▁பல்கலைக்கழகம்']"
      ],
      "execution_count": 80,
      "outputs": [
        {
          "output_type": "execute_result",
          "data": {
            "text/plain": [
              "array([-0.203724,  0.020787,  0.32179 , -0.130676, ..., -0.058546, -0.193656,  0.322165, -0.799783], dtype=float32)"
            ]
          },
          "metadata": {
            "tags": []
          },
          "execution_count": 80
        }
      ]
    },
    {
      "metadata": {
        "id": "fxQz7ywk5eI_",
        "colab_type": "code",
        "colab": {}
      },
      "cell_type": "code",
      "source": [
        "from collections import Counter\n",
        "import math \n",
        "\n",
        "def similar(target='▁பல்கலைக்கழகம்', N=15):\n",
        "    scores = Counter()\n",
        "    for word in word2index:\n",
        "        raw_difference = wordvec[word] - (wordvec[target])\n",
        "        squared_difference = raw_difference * raw_difference\n",
        "        scores[word] = -math.sqrt(sum(squared_difference))\n",
        "\n",
        "    return scores.most_common(N)"
      ],
      "execution_count": 0,
      "outputs": []
    },
    {
      "metadata": {
        "id": "tZ8fG700-tzA",
        "colab_type": "code",
        "colab": {
          "base_uri": "https://localhost:8080/",
          "height": 276
        },
        "outputId": "35864a42-5b07-4850-f404-8004a3addb93"
      },
      "cell_type": "code",
      "source": [
        "similar('▁பல்கலைக்கழகம்')"
      ],
      "execution_count": 92,
      "outputs": [
        {
          "output_type": "execute_result",
          "data": {
            "text/plain": [
              "[('▁பல்கலைக்கழகம்', -0.0),\n",
              " ('▁பல்கலைக்கழக', -7.622758631724941),\n",
              " ('▁பல்கலைக்', -8.381474130733048),\n",
              " ('▁அருங்காட்சியகம்', -9.934804107363593),\n",
              " ('▁கல்லூரி', -10.041136493606821),\n",
              " ('▁நூலகம்', -10.318009302485999),\n",
              " ('▁பாடசாலை', -10.527922100302066),\n",
              " ('▁பள்ளி', -10.59030479469354),\n",
              " ('▁உயர்நிலைப்பள்ளி', -10.687967829421753),\n",
              " ('▁கழகம்', -10.696278333915997),\n",
              " ('▁நிறுவனம்', -10.705079108673019),\n",
              " ('▁நூலக', -10.819976809333246),\n",
              " ('▁பேரரசு', -10.837515571472192),\n",
              " ('▁பொறியியல்', -10.891923176733965),\n",
              " ('▁தேவாலய', -10.900616360515421)]"
            ]
          },
          "metadata": {
            "tags": []
          },
          "execution_count": 92
        }
      ]
    },
    {
      "metadata": {
        "id": "gUfaLd3V-wSf",
        "colab_type": "text"
      },
      "cell_type": "markdown",
      "source": [
        ""
      ]
    },
    {
      "metadata": {
        "id": "3j7OfOqb-u2A",
        "colab_type": "code",
        "colab": {}
      },
      "cell_type": "code",
      "source": [
        "import random\n",
        "def random_word_similarity():\n",
        "  word = random.choice(word2index)\n",
        "  print('Words most similar to:', word, 'are:')\n",
        "  for w,d in similar(word):\n",
        "    print(w,d)"
      ],
      "execution_count": 0,
      "outputs": []
    },
    {
      "metadata": {
        "id": "4aWjX3roAb04",
        "colab_type": "code",
        "colab": {
          "base_uri": "https://localhost:8080/",
          "height": 294
        },
        "outputId": "deda03a7-8b7d-4590-f296-6e392b590a4a"
      },
      "cell_type": "code",
      "source": [
        "random_word_similarity()"
      ],
      "execution_count": 90,
      "outputs": [
        {
          "output_type": "stream",
          "text": [
            "Words most similar to: ▁நடத்தை are:\n",
            "▁நடத்தை -0.0\n",
            "▁இயல்ப -8.215403268017466\n",
            "▁சூழ்நிலை -8.370106800581947\n",
            "▁இயல்பான -8.373966557268977\n",
            "▁இயல்பு -8.431248540869035\n",
            "▁மரபியல் -8.458122979790913\n",
            "▁சுற்றுச்சூழல் -8.48872842641038\n",
            "▁எதிர்கால -8.503666136174594\n",
            "▁வடிவமைப்பு -8.514070598349551\n",
            "▁உளவியல் -8.525539534719877\n",
            "▁உணர்ச்சி -8.57813139832995\n",
            "▁ஒழுக்க -8.620055584636072\n",
            "▁செயல்பாடு -8.622697410599256\n",
            "▁நிலைமை -8.707858288932846\n",
            "▁செய்முறை -8.712483718098287\n"
          ],
          "name": "stdout"
        }
      ]
    },
    {
      "metadata": {
        "id": "mVAn5bnXAdbv",
        "colab_type": "code",
        "colab": {
          "base_uri": "https://localhost:8080/",
          "height": 294
        },
        "outputId": "d0f4784e-5faa-44ed-ba55-90c3967a810c"
      },
      "cell_type": "code",
      "source": [
        "random_word_similarity()"
      ],
      "execution_count": 99,
      "outputs": [
        {
          "output_type": "stream",
          "text": [
            "Words most similar to: ▁சங்கத்தின் are:\n",
            "▁சங்கத்தின் -0.0\n",
            "▁சங்கம் -7.752018149978662\n",
            "▁கழகத்தின் -8.312731243755607\n",
            "▁கழகத்தில் -9.466042169985057\n",
            "▁குழுவின் -9.614987310117067\n",
            "▁கழக -9.781332243940135\n",
            "▁நிறுவனத்தின் -10.006658241555689\n",
            "▁கூட்டமைப்ப -10.037624172912833\n",
            "▁கழகம் -10.144654668297827\n",
            "▁கூட்டமைப்பு -10.158870584535885\n",
            "▁அமைப்பின் -10.187481739690915\n",
            "▁கவுன்சில -10.188254483101943\n",
            "▁பேரவை -10.194472010018304\n",
            "▁கட்சியின் -10.307315483179591\n",
            "▁செயலாளராக -10.32021642437314\n"
          ],
          "name": "stdout"
        }
      ]
    },
    {
      "metadata": {
        "id": "hie5rxHIAv4b",
        "colab_type": "code",
        "colab": {
          "base_uri": "https://localhost:8080/",
          "height": 2954
        },
        "outputId": "d1550364-11d8-439b-bcad-4d9f7972c982"
      },
      "cell_type": "code",
      "source": [
        "for _ in range(10):\n",
        "  random_word_similarity()\n",
        "  print()"
      ],
      "execution_count": 100,
      "outputs": [
        {
          "output_type": "stream",
          "text": [
            "Words most similar to: ▁செயற்பாடு are:\n",
            "▁செயற்பாடு -0.0\n",
            "▁செயல்பாடு -6.688972917360301\n",
            "▁செயல்முறை -8.375478185814748\n",
            "▁சிக்கல் -8.571231007726936\n",
            "▁செயல்பாட்ட -8.62956489892192\n",
            "▁நடவடிக்கைகள் -8.792229348100095\n",
            "▁செயற்பாட்ட -8.821875366880704\n",
            "▁செயல் -8.86636707921065\n",
            "▁கட்டமைப்பு -8.89881943842484\n",
            "▁செய்முறை -8.961576606589867\n",
            "▁வழிமுறை -8.98832087845033\n",
            "▁படிம -9.001573100707782\n",
            "▁கோட்பாடு -9.013804171911644\n",
            "▁சடங்கு -9.023201609420761\n",
            "▁சிந்தனை -9.09664756256174\n",
            "\n",
            "Words most similar to: ▁உருவாகிறது are:\n",
            "▁உருவாகிறது -0.0\n",
            "▁ஏற்படுகிறது -9.886452095247327\n",
            "▁கிடைக்கிறது -10.153520540378487\n",
            "▁உருவானது -10.24272964378204\n",
            "▁உருவாகின்றன -10.4695628410069\n",
            "▁தோன்றுகிறது -10.525247609258422\n",
            "▁உருவாகிய -10.626830240583418\n",
            "▁உண்டாகும் -10.867253533946046\n",
            "▁உருவாகி -10.995676604988713\n",
            "▁நிகழ்கிறது -11.054011713806595\n",
            "▁ஏற்படலாம் -11.062169234277079\n",
            "▁உருவாகும் -11.218150897684284\n",
            "▁உருவாக -11.3653929722661\n",
            "▁அதனுடைய -11.374468075125659\n",
            "▁உருவாவத -11.377920080351405\n",
            "\n",
            "Words most similar to: ▁கருதப்பட்ட are:\n",
            "▁கருதப்பட்ட -0.0\n",
            "▁கருதப்படும் -8.64067180004961\n",
            "▁காணப்பட்ட -9.171493568165483\n",
            "▁கருத -9.60202381858553\n",
            "▁அழைக்கப்பட்ட -9.760559075932859\n",
            "▁அடையாளப்படுத்த -9.816373036620137\n",
            "▁கருதப்பட்டது -9.826552581975744\n",
            "▁அறியப்படும் -10.066819564430151\n",
            "▁இருக்கின்ற -10.070653607818949\n",
            "▁நினைத்த -10.084405609671572\n",
            "▁கருதப்படுகின்றன -10.155196925009825\n",
            "▁அறிவிக்கப்பட்ட -10.185589657056196\n",
            "▁செயல்பட்ட -10.211396780254992\n",
            "▁அனுப்பப்பட்ட -10.244971572971005\n",
            "▁பயன்பட்ட -10.303941395368883\n",
            "\n",
            "Words most similar to: 03 are:\n",
            "03 -0.0\n",
            "02 -5.476889817873443\n",
            "06 -5.864509426734794\n",
            "07 -6.567998836318858\n",
            "01 -6.794222382921074\n",
            "04 -6.877651650283623\n",
            "05 -6.882459003052606\n",
            "08 -7.673157763520397\n",
            "84 -8.90366378036394\n",
            "54 -8.904630027880653\n",
            "63 -8.950008202781936\n",
            "55 -8.975150582189807\n",
            "64 -9.166829951868191\n",
            "62 -9.271089954633858\n",
            "09 -9.294853648482228\n",
            "\n",
            "Words most similar to: =\"129 are:\n",
            "=\"129 -0.0\n",
            "=\"106 -7.119795053806475\n",
            "=\"270 -7.322083816432404\n",
            "=\"130 -7.719302767436143\n",
            "▁H -7.723589693214537\n",
            "▁Pro -7.725156641866539\n",
            "▁C -7.726255637303064\n",
            "▁Re -7.726962040744665\n",
            "AT -7.727030129935454\n",
            "▁</ -7.727155708435375\n",
            "Ar -7.7273559570894985\n",
            "▁S -7.727505867618744\n",
            "Per -7.727737228166317\n",
            "Co -7.728010889090129\n",
            "NO -7.728165816517187\n",
            "\n",
            "Words most similar to: ▁ஆய்வக are:\n",
            "▁ஆய்வக -0.0\n",
            "▁தொழிற்சாலை -8.95519564791624\n",
            "▁தொழிற்துறை -9.42709495910577\n",
            "▁அலுவலக -9.48626750332467\n",
            "▁விஞ்ஞான -9.57541741364134\n",
            "▁தொழில்துறை -9.587312243385341\n",
            "▁ஆராய்ச்சி -9.669494862384461\n",
            "▁செய்முறை -9.670238187666827\n",
            "▁பரிசோதனை -9.727206329426828\n",
            "▁ஆய்வ -9.791622350229947\n",
            "▁நூலக -9.812854072596801\n",
            "▁தொலைநோக்கி -9.818528837606626\n",
            "▁பகுப்பாய்வு -9.81907588160893\n",
            "▁வடிவமைப்பு -9.878452390082398\n",
            "▁இயந்திர -9.884190415006508\n",
            "\n",
            "Words most similar to: ▁இணைப்ப are:\n",
            "▁இணைப்ப -0.0\n",
            "▁இணைப்பு -7.8472170005085475\n",
            "▁கட்டமைப்ப -8.354847791513123\n",
            "▁ஒருங்கிணைப்ப -8.59834867580394\n",
            "▁அடுக்க -9.02103502417009\n",
            "▁அணுக -9.30630230445248\n",
            "▁இணக்க -9.331422398263678\n",
            "▁பாதுகாப்ப -9.436989411450947\n",
            "▁விரிவாக்க -9.441273955150775\n",
            "▁வடிவமைப்ப -9.481211602184707\n",
            "▁செயல்பாடு -9.49954401748576\n",
            "▁அடித்தள -9.503027387723042\n",
            "▁தொகுப்ப -9.504918779671724\n",
            "▁படிம -9.512023097854646\n",
            "▁செயலாக்க -9.53635128335782\n",
            "\n",
            "Words most similar to: ▁பாண்டியன் are:\n",
            "▁பாண்டியன் -0.0\n",
            "▁பாண்டிய -8.513825639443915\n",
            "▁சோழன் -9.308087858985894\n",
            "▁பாண்டியர் -9.436976385925865\n",
            "பாண்டிய -9.603125642231877\n",
            "▁மன்னன் -10.291768488257064\n",
            "▁சோழர் -10.324514281364634\n",
            "▁ஐயர் -10.372901717934393\n",
            "▁அருச்சுனன -10.404247460612831\n",
            "▁அரசன் -10.441009817014447\n",
            "▁லட்சுமி -10.49959750787916\n",
            "▁விஜய் -10.553721134184482\n",
            "▁சரவண -10.558711945392208\n",
            "▁நாயக்கர் -10.600415884600242\n",
            "▁தேவர் -10.624851460483367\n",
            "\n",
            "Words most similar to: ▁சூறாவளி are:\n",
            "▁சூறாவளி -0.0\n",
            "▁நிலநடுக்க -8.853861326234068\n",
            "▁வானிலை -8.956504683167866\n",
            "▁சுற்றுச்சூழல் -8.991641537660833\n",
            "▁நெருப்ப -9.065834502345849\n",
            "▁தானுந்து -9.176055198388372\n",
            "▁பனிக்கட்டி -9.185325803076196\n",
            "▁காற்று -9.219003687262546\n",
            "▁கடலோர -9.228247709622309\n",
            "▁மோசமான -9.3065681413579\n",
            "▁நீராவி -9.313531030253152\n",
            "▁மின்சார -9.327968354034967\n",
            "▁ஏவுகணை -9.407705229572608\n",
            "▁எரிமலை -9.414240200914028\n",
            "▁படகு -9.468072614208944\n",
            "\n",
            "Words most similar to: இந்திய are:\n",
            "இந்திய -0.0\n",
            "அமெரிக்க -9.021856526126346\n",
            "உலக -9.379541715167248\n",
            "சென்னை -9.589210557103675\n",
            "இந்தியா -9.692959471304707\n",
            "▁இந்தியப் -10.063852107006774\n",
            "▁தென்னிந்திய -10.127812143748264\n",
            "ஆங்கில -10.180146395946842\n",
            "இலங்கை -10.253511973924022\n",
            "அரச -10.266053517815624\n",
            "தேசிய -10.330978108322284\n",
            "▁உலகளாவிய -10.453687651127488\n",
            "▁இந்தியத் -10.489440057790322\n",
            "தமிழ -10.528019112135265\n",
            "அறிவ -10.554063644993235\n",
            "\n"
          ],
          "name": "stdout"
        }
      ]
    },
    {
      "metadata": {
        "id": "ML3VqHo3ChLB",
        "colab_type": "code",
        "colab": {
          "base_uri": "https://localhost:8080/",
          "height": 2954
        },
        "outputId": "16f90597-d7c6-4d43-c0ec-5094af33056b"
      },
      "cell_type": "code",
      "source": [
        "for _ in range(10):\n",
        "  random_word_similarity()\n",
        "  print()"
      ],
      "execution_count": 101,
      "outputs": [
        {
          "output_type": "stream",
          "text": [
            "Words most similar to: ▁இப் are:\n",
            "▁இப் -0.0\n",
            "▁இத் -7.939371872047522\n",
            "▁இந்தப் -8.831170980768933\n",
            "▁இக் -8.879538941055483\n",
            "▁இந்தக் -9.172147763400185\n",
            "▁இம் -9.267071564659924\n",
            "▁இந் -9.39694580089282\n",
            "▁இச் -9.459149058084623\n",
            "▁இந்தத் -9.689517942806392\n",
            "▁இவ் -9.724935199228561\n",
            "▁இவ்வ -9.736857521091688\n",
            "▁இதற்கு -9.81011843309302\n",
            "▁இ -9.853839151583491\n",
            "▁இவ்வி -10.026034936552515\n",
            "▁இப்பகுதி -10.09364578133977\n",
            "\n",
            "Words most similar to: 34 are:\n",
            "34 -0.0\n",
            "56 -8.643708780186127\n",
            "53 -8.73851306732013\n",
            "33 -8.7464346480265\n",
            "44 -8.840609026174928\n",
            "45 -9.043567534909178\n",
            "37 -9.2644904842707\n",
            "29 -9.272244976412193\n",
            "49 -9.30807528745771\n",
            "32 -9.381125035189395\n",
            "25 -9.425149704573172\n",
            "39 -9.459492338807943\n",
            "42 -9.494180305268264\n",
            "48 -9.498234810150045\n",
            "27 -9.5798010086725\n",
            "\n",
            "Words most similar to: ▁பயிற்சி are:\n",
            "▁பயிற்சி -0.0\n",
            "பயிற்சி -8.95039181964132\n",
            "▁திறமை -9.04297586656306\n",
            "▁பயிற்ற -9.292198763393287\n",
            "▁ஆலோசனை -9.360545629188243\n",
            "=\"270 -9.541765364751969\n",
            "▁ஆராய்ச்சி -9.78282284002629\n",
            "▁உடற்பயிற்சி -9.818646717793152\n",
            "=124 -9.820170878312336\n",
            "▁சிகிச்சை -9.822814603552938\n",
            "▁செயல்முறை -9.8350383160035\n",
            "=270 -9.83914062074613\n",
            "▁வழிகாட்ட -9.855840922272126\n",
            "▁பணி -9.893765852660016\n",
            "▁தொழில்முறை -9.901739675272776\n",
            "\n",
            "Words most similar to: 2% are:\n",
            "2% -0.0\n",
            "3% -4.925273645299717\n",
            "1% -5.557507686847059\n",
            "7% -5.686026075192114\n",
            "8% -5.739692297969144\n",
            "4% -5.743323082805913\n",
            "5% -5.797236961730396\n",
            "9% -6.610725854373326\n",
            "0% -8.523356378223548\n",
            "5,000 -10.616455935550205\n",
            "100 -10.71190753772346\n",
            "2,000 -10.71623470341774\n",
            "▁50% -10.732968225635595\n",
            "1,000 -10.844425542963956\n",
            "▁சதவிகித -11.046275299377491\n",
            "\n",
            "Words most similar to: ▁பெயரிடப்பட்ட are:\n",
            "▁பெயரிடப்பட்ட -0.0\n",
            "▁பெயரிட்ட -8.36690076880529\n",
            "▁பெயரை -9.996295275782458\n",
            "▁அழைக்கப்பட்ட -10.167097803987318\n",
            "▁வழங்கப்பட்ட -10.256826351055638\n",
            "▁வடிவமைக்கப்பட்ட -10.34824201216184\n",
            "▁பிரிக்கப்பட்ட -10.43694042305133\n",
            "▁அறிவிக்கப்பட்ட -10.533656455368865\n",
            "▁கொடுக்கப்பட்ட -10.605365594951833\n",
            "▁அறியப்படும் -10.660372650125867\n",
            "▁அழைக்கப்படும் -10.660684796251964\n",
            "▁இயல்பான -10.688839693170578\n",
            "▁அழைக்க -10.706927002325681\n",
            "▁தற்காலிக -10.710847667004172\n",
            "▁மேம்பட்ட -10.740744768739633\n",
            "\n",
            "Words most similar to: க்கரு are:\n",
            "க்கரு -0.0\n",
            "%25 -11.710460166013444\n",
            "=\"270 -11.773678975263811\n",
            "▁மரபணு -11.916699368897879\n",
            "=\"364 -11.940274977563925\n",
            "=\"349 -11.943333267067366\n",
            "▁மென் -12.06006921189327\n",
            "=\"106 -12.0669805486489\n",
            "=\"341 -12.13716434498807\n",
            "=\"120 -12.222439251776818\n",
            "▁இணக்க -12.232768254954298\n",
            "▁ஒருங்கிணைப்ப -12.24970096517679\n",
            "=\"370 -12.253874473152951\n",
            "▁மரபியல் -12.262088373458253\n",
            "=341 -12.279535191135228\n",
            "\n",
            "Words most similar to: ▁அடுத்த are:\n",
            "▁அடுத்த -0.0\n",
            "▁முந்தைய -9.4111059725842\n",
            "=\"270 -9.520697881197377\n",
            "▁இரண்டாவது -9.588421694119088\n",
            "▁அதே -9.702032889553328\n",
            "▁சரியான -9.7441131360429\n",
            "▁மூன்றாவது -9.759144171962516\n",
            "E -9.779015024617294\n",
            "▁Jump -9.779315460892356\n",
            "Mar -9.779337222895844\n",
            "II -9.78012368622801\n",
            "</ -9.780592854359107\n",
            "Br -9.780964147230108\n",
            "C -9.781117357076539\n",
            "F -9.781155838798126\n",
            "\n",
            "Words most similar to: 73 are:\n",
            "73 -0.0\n",
            "74 -5.998485467132835\n",
            "62 -6.4120227746347185\n",
            "84 -6.663307104754857\n",
            "52 -6.919435554567932\n",
            "82 -7.151609564978795\n",
            "65 -7.156290531435965\n",
            "72 -7.170087866493916\n",
            "81 -7.229953713556285\n",
            "85 -7.2750802238117025\n",
            "71 -7.285100670516521\n",
            "93 -7.285698719068824\n",
            "91 -7.487358500895727\n",
            "83 -7.515915141441245\n",
            "87 -7.546744022853425\n",
            "\n",
            "Words most similar to: ▁இலண்டன் are:\n",
            "▁இலண்டன் -0.0\n",
            "▁லண்டன் -6.66396909850704\n",
            "▁சிகாகோ -7.802210636616768\n",
            "▁சிட்னி -8.113469339360105\n",
            "▁நியூயார்க் -8.157434525437816\n",
            "▁கல்கத்தா -8.25673031889755\n",
            "▁நோர்வே -8.28592162492179\n",
            "▁இங்கிலாந்தின் -8.306027984454673\n",
            "▁செருமனி -8.405034936455301\n",
            "▁டென்மார்க் -8.46933830733102\n",
            "▁சுவிட்சர்லாந்த -8.488172708292877\n",
            "▁சிங்கப்பூர் -8.546061244114519\n",
            "▁இத்தாலி -8.584222105947461\n",
            "▁பிரான்சு -8.654769861397623\n",
            "▁கொல்கத்தா -8.693810189463848\n",
            "\n",
            "Words most similar to: தற் are:\n",
            "தற் -0.0\n",
            "=270 -10.883970787040862\n",
            "=\"270 -11.07451502263713\n",
            "P -11.290139768788588\n",
            "▁</ -11.290163781295883\n",
            "Se -11.290370407700765\n",
            "▁H -11.29106370219752\n",
            "National -11.291231136893215\n",
            "▁X -11.291333754818886\n",
            "▁B -11.291442380341802\n",
            "J -11.291528171564725\n",
            "▁S -11.29153807938264\n",
            "O -11.291705659544148\n",
            "Pa -11.29177410573989\n",
            "▁D -11.291879452772646\n",
            "\n"
          ],
          "name": "stdout"
        }
      ]
    },
    {
      "metadata": {
        "id": "QHq_nPptDy9f",
        "colab_type": "code",
        "colab": {}
      },
      "cell_type": "code",
      "source": [
        ""
      ],
      "execution_count": 0,
      "outputs": []
    }
  ]
}